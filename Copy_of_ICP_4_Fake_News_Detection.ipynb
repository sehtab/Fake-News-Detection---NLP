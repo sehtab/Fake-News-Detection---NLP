{
  "nbformat": 4,
  "nbformat_minor": 0,
  "metadata": {
    "colab": {
      "provenance": [],
      "collapsed_sections": []
    },
    "kernelspec": {
      "name": "python3",
      "display_name": "Python 3"
    }
  },
  "cells": [
    {
      "cell_type": "markdown",
      "metadata": {
        "id": "9NlGQqVTx2Dv"
      },
      "source": [
        "# **Detecting Fake News with Machine Learning**\n",
        "\n",
        "Dataset we are using in this notebook: https://umkc.box.com/s/2wj6m44uspieqobynnegdsjc59yijm2n"
      ]
    },
    {
      "cell_type": "markdown",
      "source": [
        "[Linear Models - Scikit Learn](https://scikit-learn.org/stable/modules/linear_model.html#perceptron)\n",
        "![image.png](data:image/png;base64,iVBORw0KGgoAAAANSUhEUgAAAPcAAAJkCAYAAADN4beXAAAgAElEQVR4nOy9T2jjWtr/+e2XF2YyhCkYrCpB7sa4IG2MiFazclwQcCqr2aQ2CfHCtehQ2yxCm/LShenA623I5gba7njRyWY214lpQyWGgdm0qnWNKSiTzQ2tiszAHcJkBn78MoujP0eyJMt/krKV5wMFFVk+OpL16Dw60vmcPzw8PDxgEv7b/w3c/Z/Af/xPwH/8DwD+MFFxBEEE8QD89/8P+O//D7D4vwL/+T/7rvmHiYMbYAH+/34D/tv/BUyhOIIgfPjDH4D//F+A//F1YGAD0wpugiBmjv/40RUgCOJxoOAmiIhCwU0QEYWCmyAiCgU3QUQUCm6CiCgU3AQRUSi4CSKiUHATRESh4CaIiELBTRARhYKbICIKBTdBRJT/nFpJehu7lWtcAsjv5LCfGvYFDWeVJoo6AElGd1sKuSEVBwUFx1hAae8dNgXnp8pJFVsqkMlmcbQmjrwbj0W/dYrV5j37Q4jjai+NGPe5WW8AIx6PgG2FLGfU9Yn5YArBbQZbeBwn8nNE1/BZB3dhUnHxnI8H8ShMLy2XBORH+oKA/CM0EvJ2Dt1ybqZabZ6MsADgHheqZi/s3ODY+owgpsMUWm4J+2UJ+1BxUNBDfUPezqEL1oKP0uKHwZ2W839/0JpWxuC8deBuEQAAAurlDcgAPDMTLn21U9o4Sto1ijr/XQ/ERWT0e1wq39BfExEDoHzRAQhYl+9w2XR/wV03j1sO7pYIQhx1z4279sPj1iBom+FutYhZ4tl0qF02m45bgePzNvoA2EnvPJEBHVsV43P9d/TchakKdluaa9m1qwwfxCWsC7BScysll5bwZmBlr7qxfbG2zwc2AOjX2DLv7a1lbey6L1D6NVZPvO8FlJPBbRLzx/Q61GYds7XtNJCs6YB+h98AxIyU2G7JzFbLvC9O46ictooxW+pLTQfAp/5DWmxuvTfyAtBkqfnmK7b9/IoEfP/qXNWsG1+2Uf/LpgJlbQM/qZrVYpstsbtPo2+uY2UcRiuu3kCBhJ98qxrUuhOzzrMJ7oxo9F69XEQGOi5xh54O/PT9ji3Xr7FauB78ortl9ENaChHYjJgkItO8xqXyDWeikZKnAHx3rtc368aXbdWf8ZvGWumM/NoKwp/EBUC1W29zHagKkgVlaP3kbBwZ9RqX1jHxfjJBzDbPJriH4tNKKSfXuORO7qn09AuvsS6w4GGPAlnw9l2rxV4tArgHjBZWBoDbO88LjX0Pr+Gzcu+xBnwfdbm3CytbMbOYexSrbbyhVnyuePzgNtPgsCme1VIOS3PvUaxUUTT/NMofldjaMvJNBceultvZaeXa1sSIVmoOGCm5F6kl5KHjGDq2ClXHR5mszI7NigCoun/mAa4ldrXcfp1knhcw8QUF9pzxbDrU/JGwX5Z9H+PJ2Tgy1qoyrrLTeVwVk0SjXCMl961bFiVXOpzf4R71pTacdfKqo5DG0R63H6MixHFFL7fMHeQtJ4iIQi03QUQUCm6CiCgU3AQRUSi4CSKiUHATRESh4CaIiELBTRARhYKbICIKBTdBRBQKboKIKFMN7n7rdFBiMIV1lZMqDjqj1kbFQaGKJPcv7Pa8yzrFmSEw6LdOkTRlDj+aTmN26mKh4azCH3v72BFPx5RGhdkKn0x2iuvyRtWVEapjfA/ZLLrWyC42fDGpTC4giK29Q3dtggLmmH7rFKvacoAllf2+2Mmhaw6I0ds4uwVA48GflCm03PaPWR86cGiEdfU2disa1vcGR0UFo+GsygLbKUkUsbmXRQnX+HnkLIAIjf47eu6RbkIam+Rfe3KmJkgEAOXLFNcV0jgqA4CGs1Gqo3/DhS7gg6f9lI2jLn5RsZ+SYLbmPTmOXvMalwOqJfatTDaOBF9Mp4Hk+aJj3d5bGaiZnjKXucQc0w6zPO7CY5RVEq9RVIH8/xZH73+/wwd+LLt1oRvVhuISHbpkDQ6XOpzju52fsbH1sMZ5s3HhnuPBhRdI4BoXHUD2C2jH8RBQyt6haGUDKg4KX5FwHz/reAOBskf38TTr6Nim8/fx2tewVp1ZJnomlts7XAqL+OTzcezVIqD8jj5gpebHCnBVzhl/s4C4kO2UXjmpYgsLKAVs9rh2g3o5h31zfc5conwB6uUc50Bj/jM7eK/Re5tDd9vY/v/RdARHX9VwKS3jaIzAtveD/X3QkYyA1PBZE3FVZnXst06xet7G+1QaMb2Nj81F1MvvjDqrUMCstVdD03IJ+3u/Y7dSRdIrUDoNJGvc8dDb2K3owCjDxTs3XNrPAv3nTtq+0DiOp8c2Ow0kzd/HZ1+jAPWWA8i/5e7BPVp+edtf5mCVsWOfxHI2jowhYGTf507w1BLyhr/NQojjvdXKidh8K3B2VqZN8rW1+DGwH0a5X1T77217v2OS6Kgz+DqmpNFaMiGNo3IO3R1gq1BFkrOsKl902yJjrPtpVAFGaoPLGCSsS0DvO9dZ6jieHttMySjBtM8CE+3rDBO9lvvlonWSenWa9b/fAeKSf4fakJZ/LAYki8FZAFJLyNe+MvsqvuECcXwa9Z719g6X0HHp0jNBWLSzFtftAiDgA2CYW9rYNdRSYzvLUxvollnGsNsScLQG9DQgsTLphBEeLnffIjX0NOBSbSLpcsLnbwGkprSvM0j0glt4jXWh6XPPZ7SCbwNaQa+Lg+EuT/h/yx+9jd3KHT6UczgCYN5TBiNhXVJwqGp4Aw2Qx+jdf7mIjLCIT35PBsz72PIG+9yop4UlSWSPFA/GPumNfg5NByAhIQIX3zUgZUejZWcNhdnHYffGKydVHAZsPyEC+bcB9Z/avs4Wj5yWs+ed4Z4vj7Cu3sau77NTEZu5OHo197Nx42ovysE/nPACCeg45OqhNEOojf0wMgHLDW65yIORs3FAYfeD3p2DQxBeYx3X+OhzPFkGY0sPLbc5AHQa3LETkBjlXl9v48CxTXZBNdXSP4kLzLnOrX/okDEKSAj8dEsqDhzZhY6evoDES1ifD5tnTV4RcFxreN9LT7KvM070Wm7AuBK/YC+xcIszjufefkjYLwMHBTuNy+/IyKvDWlsfUjJK503bTBp2TjUjOIvSstHiB+A2nxq9x5t7MnoFZzpqpp2xtWXkC7YNNSMJtkDx5SJ6FfvYZbJZHBkXRP57fr3laDq3yT8diK29wxVOsWreLghx1LMLuLSuB+zifFExyxBQ3xFwfG5+LuF99itWLRttiDnnUhu4ynLb5I5RLGBf5x0SJM4sdvoZhRQxiOEvxhDjEM2WOwL0W20UEcdVxAObeDwouGcNx6QMNMMHMT6UlhNERKGXWAgiolBwE0REoeAmiIhCwU0QEYWCmyAiCgU3QUQUCm6CiCgU3AQRUWbYfuqyl54MGfrDoZw4racD9s3AUWV2GePbUqPJTFlfQ+G01j43ZtZ+2m/dILGXQ1cAzEEUbMB/uOGP/EikfusUq5UGEqbyx/KzEaPwnK2v88jM2k9jaxucDJApgi6Vb2O1GrG15UG1EUFEnNm1n7oYqkcaiUHDpsOAKcRRGkgQeOPmAko7Ii5qTktpeIumsf3sIopNnbOSOq2eGZee2VG+JKMOBYeiuc4YZbr0T9b4bL/lAxZSt+7IwyqqLaMOxbCmDu6TE3d5/DE09m9HxEXNrJv7GA+x1j4z5mRUmIqfm/fI74w33lc5UXAsyUaKP0i/dYpVxTaBmrZM28vlFu2zk+jSdI55lNFvnWL1RA0Yo3zPdL7lDZ9tqDgotHEmsWAZXsdRy2R+98ROzpATqFA6xr55Lndjm226e8Y+dhpI8rc/AKAquNgxTKSdBpI1e58G0L+h57K1HrY07mJwj+K5aapln29Zx3g8a22UmYPecnaC9rLZkaQFl82m1aF2sZILCDLTq8YNr0xtOG8bOjc4dhtKc3HbXOJRRmxtGXn1JkCTu4BSltvIwDYkvM/C0A2FqOPIZTJsa6jkcM75Lbcw7Kp1/rimZJQEHRf8xUDitFYpGSXhHr1bj/IAQEhjn7O1vpEXcKnx91ILKOXMY8Bu1aAxTfW41tooM9std6eBZO0Opb0c9kd0W1npX6eBZK2Bdd8U2e3kGmT4LYGOng4c16ouP9oCEjogh6h7//sdoOtOXRIASOzkHlbH0cuUsLmXBUydkZXGiz7LXXhaYkVPAeIoKNbEB2ZdQ37xMay1c87sBrfbzjkuqQ3UpSqXvrkRkBAU1ppYQch0uODPT805kQFTB8NIywUkhAWUcqPOCGITe7UISH6qIRXA/fA6jlQmwAI5h00Yjw9PwAW413KOAIV04tX4gX0oZtHd5p5yhH0aOW1rbQSYUfuphrNz3ZmG8oR4Ts0jb8vIq4rPTKGstbEnAQDQURxObCbs5+cYY/Xjy3gjA8XqBM+AU0sBdWTi/aA6jl6migPu3YGfxIUhy10Ir7Eu6Nji3z/oNLCluuYJCw27WNkXBnYrEpppW2sjwOy23PBOc0t777A5ckkS9ndukKydOuegMpC3c6ifVDlDqYy6pNsubCGNo507JK36LKC0E0emZnu+Y2vvUNeqzhTYL6X1q6M1DY+J3fssb2dRqjT96zhymQISWtOynzIbKOuY8l7uhkvfzXUnmmeL3UPzxzgvjTITyZSttRGANEvjMvBY6Kl5PnZUYjzmoLd8FmGi/Iz8+ocJDPutNor6uCkw8RyY6bR8dnBNGYthL2NMH/d0u1GaapZ4HCgtJ4iIQmk5QUQUCm6CiCgU3AQRUSi4CSKiUHATRESh4CaIiELBTRAR5VGDu986HUlsOApstBJfNht4kiywwSeDn0+H+ZMEEs+VR32JxdTshB88MXvbMochPuXbaAQxDSKTlv+m3SMjjjmYmiAiyHTeLXcJ9fzeu3a/H22J9wY+s9+bDlyuLaO7LdhSPLWJZJMNaXyjultyl3xPiBsjulzvjVvLNc9yN29HkwSao8fqsoYtTm74FNkM8cx5mJTbq4c//fnvD6e35oJ/PZz+498PDw8PD/o//v7wx7/9y1j+74fTv1096MZf+j/+/vDH/zL+vr16+NOff3n4p1nEr/9i//dbPlD2w8M///bXhz8Z2/Xc9n85P//nP4xt//rLw19+tev+lz//lft7sNyHX3+x622Uy9fj4ddfHv7oqPMvD3/8M1fG7dXDn1zbIIjHYOK0XGleA9k0J0CQsOl5fypic5sTCEqipcVhcF7xlMSNdvJbPgIdBUXE8YmX560ZdUltcOOhmfHElgMOIawkUOC2LaTxYZRtEMSYTJyW9zQgsRKys6nTQLLGu4EMNbCQxtFeG7uVKorg0nW/5SMSLDh0p9VuXXAAjyQJJIhpMHHLnRBDtkKW8DCHbjmH7h6vBoYxxU8O3bIM1Kq298tv+QjEXi3aClwHts2ka9Rr+KwpHJyUz824kkCCmBYTB7e8IuCy2eZkhSrOPISIrPV8YbWefVWz5XWdBhe0AhLCkOWjklpCXr/GR16e12qjP6A1VnExyqPxqUsCCWJ6TN5bntpAd6eBpJE6Ayx9dhNbW0a+oFgyvYwk2C33y0X0OIlfJptls13oPstHZlCeB0lGFxLeZ79i1aq7gLyr5ZazccPh7SVnnLYkkCCmB5lYCCKiROYlFoIgnFBwE0REoeAmiIhCwU0QEYWCmyAiCgU3QUQUCm6CiCgU3AQRUSi4CSKiUHATRESh4CaIiDLV4O63TrHrMSJsrHX1NnYLzGaaLIxmMlVOqqHrQRBRZUrBreKgUHXNHz3Zun31Dut75jhrGXlVGWssN0E8V6YQ3EwwiJ0wooPw68bWNhzqppH0RwRBTMN+KmG/zCJV+TLNdTn0Ng5VAR+2p2A3cameHKZWl8XV0jr5Lfcoj8ymxKwwHbXxo8C5zYQ4rsobPg600VC+APVyjskUOg0kawqUtQ3I0HBWvUZiJ2cIIVQoHaMensvN79+htJczsgxW592WQJMYED+cGe4tF7Fp3nPngI+F8fxpbuRtzpKSWkKet6uCT/0lyKng5coXHRmH+VXE5lsBl8o3mm6I+OHMcMvNIaRxtHOH5Hkb71PpyVpwV4oNLKAEwKFMaoJLr/2Wa97mV06aOI1MgyDGZYZb7kdAb2O3cocPZa4X3rGCnS3UoXCP37yWi/7mV2ERPz36zhBEMI8c3GzmzXDPnPl1NZyd8DNpqjio6cjIr1lrqLexWzjljKshMTzjVuB1buxphKDigHuW/pO4MGS5l/mV3Z/DrCdB/EBmNC0XkUATq4Vra4nf/GN+XDY506n1fRmlc65cSeBabgEJjbOYCnFc7bH023s5PM2vo9aTIB4Lsp8SRER5XvfcBPGMoOAmiIhCwU0QEYWCmyAiCgU3QUQUCm6CiCgU3AQRUSi4CSKiUHATRESh4CaIiELBTRARZXbtpzydBpIjjAJTTqpIFhpQAssbTf7Qb50GGlj7rVMkK+0nkjSwEXSh699pPGHdiFlhZu2nNhrOzkcd2wlkhDscel48xivPjVufHFt7h+7ecJEEaZeJp2Jm7acWHQVFUXBJFcLhqTvqKChCQF7w+gZBRIcZt5+qOKjdobS3jJ76dbRqycsoKQp+7qRtUymY9yz/NovEeRM9fjuFr0jsvbN9aJ0GkueLuBpojTlxo9pEsrmA0t47bN76rT/kewJL6flMhrerOj8TUC9zDjgTQx2FccaSj2ODNS7Sx17fIRvszDCjsgaGcqKgl81iX9BxMPK3BWy+FZzeNUuRDPTOx60VUy4lTqo4FLmT+nbM70HDZ03EVZnVsd86xapZZ72Nj81F1MvvDFurOtiPYARggtctj8DoNlj7d+muiQA0ssHOKLPbW95pYEuL49MkJ0VqCXldw2ejIVGa10BWHmz5figiNrft1j4miZZgkcHZWVOSq+4qDiYIbGB8G+ylZq4kQk6x34hssLPFbLbcehu7tTuU9iZ1lUt4n/2K1aaKzW3gQl3Aepa1No+LM21laqaAzjZ3KgsBHwBmfd1rY9fQOOVdQXxcU1hKPGZgAxjDBgvI2znUT6pMPWXtG9lgZ42ZDO6+quES97jk3GQAgEoVFyPeV8bWlpEv3OCsdYdjaRndJ+lIY30L+2FWNe/tzUkXDEOrhZDGUTkN8ynDARfg+R0ZqDWxizG9bZwN9giA2fdgw24lNmE8XjyBI8C7MG4jKm1c7aWREIGL7xqQctWFbLA/hJm0n8bW3hnqYV5BvIDSXo6dxCPZTyWsSzqKTaCU9evYEZAQ7nGhmvVkttWnoP/9DhBfWK0au7AZdBrcs2wBiYELk4T9soxEszne47WxbLBOM23s1aK1DtlgZ4uZbLmnjZyNI6MBb3xbbRGbuTguzBQUAuo7Ao4DOt3kbNxIWY1e7xHq4vje2jLyBcWyq2YkARlz5ZeL6FWqSBp/eqfgEvb3fsdupYmkEpD+69cOmyxLp8exwcJlphVQNzoDyQY7W5D9lCAiyuz2lhMEMREU3AQRUSi4CSKiUHATRESh4CaIiELBTRARhYKbICIKBTdBRBQKboKIKBTcBBFRpvpueb91io9Ih3qXePi6rmGTCP+esnJSxZbLZWgNl/Q1rEyGclLFFsa3jrA623YWGw9LDEGEYErBbQdiJjuldfXf0fPTCoXgUQcsWEMl7bqZQyAnISMAxaaKzYm0RHQxIBizLUh8buOAZRF5VRlJuUwQfsyuIPH2DpdYHLLS5ATJCT0FgbCtKZeFqmUo6bdOsaotc2k5J0QEhttYAACvsb9zh2StgfXAjMVHUMjXt1JFMdQ2iagy2+O5+THII1o0L5vm2GzA1xoaJCf0EwSmNtDdG0zL3eWeVZq4kE2JIKC02uEqntpAXapi60T12V87++laJtI2zqR32BTSOCq/oLScADDLwZ3aQLds/sGChdf8DCPcPbeIzW17nZgkItN0+r56ljbIKQgMpKOgiDiuuO3La+mQXwbkbRn5wlec6dJggHZucCzEcWXVhXniPqoaNkmKQHDMbnA7ME0pN1DgNoBOiJ+cMEAQOAymTlryTIedPfleveOAJXastvFm78Vg2brutKoAgKQDoOAmbOYkuA2m3cE2TE4YIAgMIvZqEVB+Rx+Dxs+wveqxtTRKShMfW3Ek3GVLyyT6J4Yyk4JEAOi32pyA3yXaG0mQ6E+gnNBXEBiC1BLy+jU+cvuttEadiI9lK2heO571I7VEPepEKGa45dawVahaf4363NrZoeb9/ViQnDBAEAghjQ9SldXPM12XsF8GDgpcHSR59OfgQhqfshpWm/xCU4hoixOd6b2R0lNv+bOHBIkEEVHo3XKCiCgU3AQRUSi4CSKiUHATRESh4CaIiELBTRARhYKbICIKBTdBRBQKboKIKBTcBBFRKLgJIqJMNbj7rdOQI8DCr6ucVJEsGP9O1KHr299pcKPKXHQaSBaqI42s6rdOA7ffb50iWRl15Ne4sBF0oetv7K/jn7kvncaj1JsNkQ33e3li1NnrHFFOwo40fN7Mrv3UdJCJMrrl0ccuZ4Q7HLY0j5FkGs7OJxwrCnaCHYr2SLPY2jt010b/3pPxqCPEBo2r07DBQlgAmgqUtfEMuH51ey7Mrv3UVBVNICW4VL4NtkgdBUUIyD+zH3o+EbEu6diaJAN4xsys/VT5oiP/dmP8lkZeRklR8HMnbdtMrXKzSJw30bOWelzdfScv4KymahPJpjGW+nbYZAc+3xOCDazOz3xEj4b1FNNwtbu0U45x8F422JfexlVMxQYLvNmWkS8oOOhIjt/Riatsc4z9M7fBzqisQUNPW0BipY3dgnky+fnG/BCw+VZA0rKZAtDbOFQFfNgGeufj1o2plxLu9Pp2zO8FGVj1Nj42F1Evv2MB3VEH+xGMEzjBK5m94E2ycCmcOZQvQL2cM7bXQLJmpsU+Nlgf46ozY5rABgsJ+zs3Abpnd9nsb3YxeN422BkNbgC4R/EcuCrnWGB2GkhWGkiMMgNJagn52ld81oFNAVCarHWTAa7V/tEMM7DeoacDsgAg5ZZDqjgIE9hA6JZS3t6w/0gtIY+v9vbxY2ywpu7Zsw9F/4YLXcAHa7nILupfVOynnrdnboaDG8i/5U7GlIyS0MRFB+FPKlM51FSxuQ1cqAtYz7Kr++PimudsWGD5GViFNI722titVFHEYGt7XFNY2hz6eITAlXoDCygBeCwbbOCkEBxyNg5UmJ+dF0ayySt0NkEEj7DoKah8TsxocItIiNNpXZkn7QZnrTscS8voPklqxvoW9sOsOszAKqRxVE6DXTCqOOBO/vyODNSa2MWUet+tOdByOAJg9kXYTN8GG/YpA/PJnWK12kaJ39WXi8gIi/j0jO6lwzKz9lN5RcBxjXtW3VFQ1AWspzCi/VTCuqSj2ARKWb8TUUBCuMeFatZTxUFt8sdlYQg0sHYa3LNsAQkPv/l+WUai2ZzOc9/bO1zy+ujODWde/dE2WEP3jGsU+c5z4TXW4SybYMxoyw0248gOe5GBMf6Mn3I2jowGvPFttc1JD0xbqYD6joDjgE43liZyvd4j1MXxvSAD68tF9DjLqXcKbtpQm0gqAem/q0PN81YhJaN03uSmcBKQt7/gb4P1MK4O1HEaNljrd7p2LtuT0Ss4bbd2ev98bbBkPyWIiELvlhNERKHgJoiIQsFNEBGFgpsgIgoFN0FEFApugogoFNwEEVEouAkiolBwE0REoeAmiIhCwU0QEWWqA0f6rVN8RDrU8MPgdV3joTn8xvvy/DAJYRg6DSRrdyNaZUYoO1D1FMDAOG6MNGZ7Fui3TrGqiM9qcEgQM2o/9RgPbZy476cpJpgS4S8mGs7O75CXgAtVw+bMXXz4kXfsd9ptCbN5kfQg9NjwZ8Ls2k8dMB2xw8wyj+jfcAER77MiU/b+6PoEIuF9dgGX2tOMayemz8zaTx2YDq6ptNo+pkyvz1xjyJWTKrZMUYAQx9Xea3z2MZp60Vc1QE4jJgDrA8ootu3eWxmombck7vKc9WMmliD5X9C+joPzdinjsq06lEmSjDoULqMxDLPZRRSbOleXgDK9bKupgHoM3Ja4f0/X8TTWr8satrh6z9OtSBCzK2uwMFvtCTTHfFm+pkwA+jf0XJ9ZUr5OA1ta3LaUdlT4G029t/1ZAdZzbJ038gKKHhK/49oN6uUc9mFcTKptvNlLI+ZlED2pYstynI24r8PQ2/jYBEqWkMHOurpWgDGnmaVnVmyLK+tbADKOQ3KPoraMbnkjRJk+tlUAyomCXtbeL8Vz5hVuUgtzH7wkm/o1DpFFtywaF5NhGuX5YfZ7y/VvuEB8OvfaPqbM4y9Gcyyksc999kZ2paU6s5ICQCwljXax6SgoQrRsMDFJREa9GUjN8zv2iSdn48iY2xyoOyBvy5wpZcR99f4StszphqrApzLfyt3gWOB/BwnvszDUVBo+K/cuoeWGx63XglN1FVgmo/ddsz7jxZj27yJCTnlcVI39r/OtcEpGSdBxwV8MhDg+mcdISOODxG9zvpn5lttKZadRWAhTpiP1BgDz3HBon0Z1qLPJEKDrTtURAHhOeeRTd2ERn8JucCwrqHkbwlq9j63XVt363++86y+xIOvpC0i8DFs5hChT8rWtyts51E+qTPnkp07yPF5MvHlh6ZmjzYwHtzOVnZghpkyz17treMT7rVOs8hfx1Aa6ZRjp2ykQOsBVXKgeF4ROA8nzb+ivieEuXjrvMweg/44e4FT9mkxkBTVdZXbaHXu1CEjLPvejKoB79G4BcP0DPQ1AwE8XXKZRDx/bqjkXWb91itVKezDAXy5aWY97/xOvoh/YwAzbTwEYqdXioPVzJPspR6Apk52M9g/PUk2Tfqthb0944R1QfnRucCyIg4LG1BLyuobPYfYjtYQ8dBzyBtGm67k0z6RWUCGNT1mgWDUspakl5FXFZ2ZRCesScHzOGU07CteR5UNgmX62VQ1nJ/Z2Yq8Wfer/GuuCa56xTgNbqpi/oSMAACAASURBVGHQfQbMdst9e4dLaclwaI/GZdNpwzR7VP1NmcZMFbWq1VOdl2x9b+wVUDQmBzC/Y81o6TaaOoKYdQhmZNmjBZWwLinYaqrY3B6WAnCW06ZZBxl59avP+sOsoMOJraVRUppYPXmB7ra5fdvGyt+eyNtZlCq8OVVGXdJxGGqfvMr0t60mwG0HAuplr+yEm0TBLGMCg+48QvbTecaaRGAWT1jz0V74iwkxXWa/t5zwgT0qupSWZjCwgX6rbU8iQfwQZjstJzjcL2Rgpl64cM/59dxS4FmE0nKCiCiUlhNERKHgJoiIQsFNEBGFgpsgIgoFN0FEFApugogoFNwEEVFmVJDIGDSfhBvhFM5pxg3md78IElIW6H5xw20mcW+LXsUknpIZFSSywOHNJ8pJ1RrAMBU6CoqigLx6AwWSx5tUwbJAZkGR0S1ziqaWjsAxjgTxhMysIPE37R4Z+bXVUssrAqD9bg8pnBDli478ygbWJecwSm/cskA2PDS/wu+EiM212XgVlCCAGRYkyisCLmsKlDXWeipf/IZNjoOKC1XA+jYgQ8DlKMIEAKbRw8uBNjrBUkZn6m9/5rd8qBSQeDbM7sARh9Yo6H52DDo3OJaWmBc9tYR87Ss+6/APgAFZoD1+OVlQRhojPVh2gJRRb+NjcxH18jsWuB2VOdf8loeVAhLPgpntLe+3TpH8soRuOYduOYdPaCNZaU8hLTdsqlZKLWFdundI+RgBskAApgKoW5aBWhXJQmM8D/kwKSPu0DP/TPF9Ax7Lw0oBiWfBjAa3ip+bcJgyY2tplBBSSRSE/g0XOnBcMwK3wHrkLwcmCRBQL+fQLWdRCtQVSdgv53CVvcPWmBcf5cSui2PYpJDG0Z6Iiwr7zNIR+S03pIA/OUpntxBRMXoS4ZnR4H48+qqGS0m2MoKuGcC+rRuTBaLZDnS2xSTR1hCPgCVlNOpylV1wriCkcVS2MwRHgLuXc1JAN89FCkjYzKggkaXKxaYtt+u32rb3e1xBounXXnF3grF02Nfp7ZYFuiR9gHHRGGg1h9cnSMqIToOTBwq2KNJvOUkBCY6Z7VBzuKkB+IvwvPEUJL5SUNQF1D1O9JgkItP8ijNdwqZHeW5ZoFPSh1Av2Rxb8kVGfieH/QApI14uosfJAzPZLJt9Q/dZTlJAgoNMLAQRUZ7dPTdBPBcouAkiolBwE0REoeAmiIhCwU0QEYWCmyAiCgU3QUQUCm6CiCgU3AQRUSi4CSKiUHATRESZanD3W6chR4CFW5cf55w88Rmx5YuKgwL3/ULY0Wl+ZY0zCm2WGLIPnYZzbLjn98f5HcLARgT6b9s4Fx5l2wbG/vP/gurzqIw96tHJlIKb/fDO+ZknW9e2i7JxznUo4YNTb2O3oKCXzTrGbK8rzVA2l37r9HFPpFlFWEDv3Pv49FtfHSPahjPdC6K8nXv8uciFOK7M82Uvjl7tBwW4kMYRb/7R29gdw/Qzo/ZTFRfqgsPEImfjwIAtxQsNZ9VrYMC5xoZDlnCNn0k55I/uZbthZhzHcNSoI6TxKbsw1wabmbWfDiC8QAIaejogB5k8DY/YB0+ZIpMy2NZSY7IAOY5e8xqXQhyH4jU+qACgDMoPb/nJCtzjpENYRzsNJGvGCkIcdVnDlrbMtUjBZfRbp1jVllGHYk3W4BRHBptUhyPiQ1bDVlPFJt9Kdm5wLC3jSvyKY8e5bjvozX262ksjxk/qUKmiyI91d034wOrvVZ73vrNjpeKg8BWJHREXNb/fw1XWjoiL2h0+jHA8ftPuLQ394EQXRh3MOnYaSJ4voiReo6gaY/VTzuNj/lbOfQEGJ63gyr61z5nLQtVzcgw/ZlTWIGFdUhwnmZkWloZ91fCIffL5OPZqEVCY/9wUKxwrwFU5Z/ydxtXAwQeAexTPzfXYj7F1ohrrhLCOdhpI1oB6OWfIDNvYrdwD1iZCmktVBRc7OXS3zTLbOJOMEyzIpBqSn9aWkS8Y0grBqNe5jvzbDeD7V+fKnRtgJ4eudUIq+LmTxn4qjaPyC+fJb+2zhvW9HI4E9p2zll3cce0G9XIO+zBuy6ptvPEVYAT9HnaGyOrGPr+EgA9hD4TexqG6gPXsCHoq/Rq9t8ZvA0A5MW4Njd9DGSdjTG2gu9fGbmW0CxMww73l8nYWJU2xOjc+QkT+kbaVfxvG8LKAUs5cT8TmW26ShBDWUeWLjkxWtn8cI+2zCGsulWQ7k0jJKAn36N3aZQabVMPgssF2FBQRx3svTVNqg1M6S1iXgkWMSvMayKa5bEbCJnfhye/YJ6+cjQ9x0gX8Hp0bHAt8nZkHLxO02wCgX2PV7FCraFgf1fcuDB4n+/iLkFNP67Gb0ZYbMNXBlvJIb2O3uYj1YQebkwR6BWz/+x0gLk1pcgMDz2yBWUcvvmtACsyVthLw4w4tI9yJ4ZhfDeAyg/DI2ThQYRNCgJsMYrCjzX0bAGR8q6kNPwZTYuzfeIT56MLgUIVNuewwzGzL7YZZS5eGpyWGJNDbZOonSJyQkNZRd6v2m8Y9MZiCuXSoSTUsQhofJB0XrTYOVb/+C/s+0XqiEXhYn1ix7J566vbOObHjEyFvG7+FrGF1Kt798Myo/dSFOeOH2Xse+ByQpWCDjzHse9qpz7Q51DpqpMh8b7/exqE6ShnDGGJSHRF5RcBx8xrgbyUc6OjpC0i8NP9WcTHk6aG8IuDSoYhWcTb2uwf+MM00/1SE9RtMwk/iAi6Vb1ZwKifKkEeDTkNu7NWiXb9Xi4B6Y50L/Vbbkf1Mi5lNy51zYY0435VgdujYhlCA9VZ2Q3QuxdaWkS949Jb7Mtw6Glt7h7pWxZYxPRKEOOrZBVxq4csYWocgk+qopGSUhDYg+R0vCe+zX7FaqaJo1DUv+XxupqTmFFHWd1ivMjDlABfSONq5cxyL0k4cmdrd2EVa9lvDeJvfkZFXvwZ8Q3QZcjl7b2oDdck+FzJZGSVBQS9gfz6Y64/QW0720x9IuHnEialgPKp66vveH8nc3HNHjk4DW+oC1n1bRmJ6qDio6Y4poZ8DM5uWRw7+BRYANLXuY+J6uQZTniV2TqC0nCAiCqXlBBFRKLgJIqJQcBNERKHgJoiIQsFNEBGFgpsgIgoFN0FElCm9xMIGZVzI3IsCLuMGAI/3tI3BHPAfDsfeMQf3wsfgMEN7OJ1HPQjimTKVlrvfaqMoynZAdRpIVq6R2MlxgkIZqHkZLBeQ8fWaqfjZR6SY58qui9fGcDoRm3syEo6RRwTxPJmKIPFnfjim8R7vYCstYb/MRtI4A+8ewAKOvwyOF+y3vuJYEoYaWORtGXlrLLTLJEIQz5TJg7tzg2NBxBuB/9tHy+MTeIm3yx5Br+GzApSyS8ProP/uGC4nrwiOsbcE8RyZOLiZ0uaFdb/s/tvNT6KX10vC+yxQbPKiAgVFcBeNAJTmtdPSEmA1IYjnwlQ61DLi5EObYpKITPMGCiTInHEzBm+9x7E1EB+DA9jDapAJIsJMfcinlzqY5zft3vtiYNgmDlsajiTDPR5gQAlnSCGI58tUessdaXZqCXnPWSsAcyYRP0GBnI0DyjecBbq7wrKIBLXaxDNm4uCOvVp0mSYl7O8solhxCwzZAPqew1vtQniNdVyj6GvcDEnnBsfCIn4avwSCmHsmT8tTS8jXvuKzDjtorVkSbBEewFLpo8BUmkn+il9CKIwD6H+/s1zbBPFcmYqJZXDuox+JOjiNDUE8Q6Zyzx1bS6OkjTDF7qOh4awyJPUniGcCOdQIIqLQqDCCiCgU3AQRUSi4CSKiUHATRESh4CaIiELBTRARhYKbICIKBTdBRBQKboKIKFMdz91vneIj0qHMo6Osq5xUcbHiY041Rp6Fn6I1yJ76I2Cj5fBI49OVkyq2HL6LeZs6+HGPT5SZUnDb8yFnslNcl9Mj51ecHyknTRRFGd09ySiziYNX4U8AW/bAgv1j6/UP0iFL2C8/7oAb/sLXb51itdJAorwx4Xj5p+Lxj09UmYr91Lyy1of+BiOsq7exW9GwvpdFaaCVYdIH27gq4X3W26A6HBFvZC+vWzSJrS0jjzv0nsfuPmum0HLbV1blyxTXFdI4KgOAhjP3Z4Zx9YoLeqeDbRQMNfMed7XpNJCs2We/1fLpbexW7vCBb/Wsi5CR6jq+60yB2QQLpoddQL28wXxxlSZ6b52ZhH3bYK7H6npQ+IrEjoiLmjnhA//5eHjXyz4+ZqYFLKC0I+KiZh8DNtxXREm7RlG39zeoTMetAndL5L3cfXzcxxguh97jHKN5ZOoOtXmBFyxmslnscxcK5QtQL+fYydBpIFlToKxtQBZeY11o4qIDyMaJ1lc1XErLOLIC2/Xdahtv9tKI6W18bC6iXn5nfKZC8aqY/g09OYvumggz0A9bGnfLcI/iOXBVzlkn/taJGnosvXKi4FiS0eUvOIqIqzILsH7rFKtWeXam1eUuPJcQ8IEvVNWAvVy4MjsNbGlx+7OOEc1+y910GkjW7lDayzlmoNltCVM7RlHh2faW8zOWfNCajplQ5G3uKp9a4tJYZoo5Pm8bWikNn5V75FfMbERHhne/pWSUwPvkuHQ45ZNhCGnsWyep1y3DAko5s/OP1cepuRrkstlEslBFssA6Ju2T3Kj/W7szMba2jLx6wy48Aw56EZu5ODLuDUjLXAfdkDIBgNNOx1KS3ZHpt5yDHWN+vD47Bk5P/ejHKIpEq+Ue05smb8vIF7iUfmCeswWUzP/yWil8wwXi+GS0aj0NuFSbSDad5edvAaTSOOLUU0H21oEe7gkbHOu2otNAstbAupWi6ujpLk20sb8JHfjp+x0gLo34FCG4TDm1ge5OA8lCFY7bFr/lDtgxTqy4Oj45Tz2ptWzmM7g9fsy+quFSXB7vx+VnLLHuq3M4AmDew9lIWJcUHKoa3kADZLuFSIhA/m1Aj72QxlE5bZRZxYFHgCsnVRyKWXS3ud7taQluUhuoS1UuRRWQEBZQynk/GusDVotnHdfbO1wCzrTcQXCZZj26ZRjH+hTgA9xruQU7xhffNSDlCnASYg7wyGm5hrNKNaR+aYR1hTQ+SDq2rFSaTRhopsfoNJAsNLzvaT1wzFhye4dL/kTp3LhaIFPBzO6heUurvCLguOaz3U4DB9Zkh4KPdtlomV6J1t+fFe+JEMdF3paRVxWjLiLeyECx2vZMWWOSiIzOT9LIJosIJrjMfqthW3GFF0gMWT5Q/xUBl46JHjWcVa8B+TW12i7ms+UGIG9nUao0kSywUBp1kgJH2ijEcWX2lqdklM6bWC1cs7+9JiI0FczSstG6G6Q2cJU9xWqhyq1r9Pq+XESvUkXSWJzJZj1MsOz+MGnVbQF5aSH8ToVCwv7ODZK1UyaRXHuHula19xewe5+FNI527hz1Ke3EkandBW4hFlBm7BVQ5Ky4+R2jY8xvuRszfefWDf8C0/OCHGpj4fF45rnQaSB5vvgD3+gjwjK3LfePpN9qo4g4rp5bYBvTM2ey5ISfByi4R8HqRRdQLz+Hlot/gYVBKfD8QGk5QUSUZ/sSC0FEHQpugogoFNwEEVEouAkiolBwE0REoeAmiIhCwU0QEYWCmyAiylSDu986DTkCbLR1lZMqN6LKjYqDEUaAmaPP/MubjH7rFMmK94ioYIxhoI9Ur9njue3v0zO39lOA93QJWB+j1o9BbO0dumshVhzwsT03y+dz29+nZ07tp5yna89D+0MQxJzaT8G1kHp7pNoOxz1Ywm3OdNpJ8zsyUPvKxkabkkRuSKSnBZSzd14WqsZYZ2FwGKlL9+Q9aMMYfirH0Wte49JlDbUsqg5DqHs/yWoaRWhUmAN2wveypn3UlPi3HSfkhWx/rpxUscU71nj8jKepDXT33Gm5NvBdlrnkmFkVKs5a/jU/VkzbJyvLWU/290FHMgKJrKbPAeot5zFsn5+41jG2toy8bhhM9W+40AWnWmlbHjS1OAhhPPVAaV4DDsunhM2AoZa8bXSwnoa11Zy0gaymzwJquTn6nrZPAQlBQe8WAJhf7VPYAoXwxlMnPpbPsNze4RI6S/kd9VlkgUBW02cBBTdH7NUioLhsnwCABSReAriF1QrZrRIzp/oJ/cIYTwcJsHyG4eUiMsIiPvmokMhq+jyYT/vpMEa0n1qklpDXr/GRqwNTKol4IxifQ8ch97nS5P3mg/UYbjz1ZtDyqeIs7LExBI4ffdYnq+nz4Nm23O70kqXMEvbLwEGBm1jAMb2vhP2937FbsT/P78jIq1/hSZDxVEjjg1TFFtdb7sDD8pnfyYXcOxGbezJ6BecECdZtAVlNnwWkWZoUr8kB5xGymkYO6i2fCJY6WhMazC2G1ZRS4EjxbNPy8XBPrwuPl0PmAbKaPgcoLSeIiEJpOUFEFApugogoFNwEEVEouAkiolBwE0REoeAmiIhCwU0QEWV+BYkdNozQ/De6aI8NVOHLSBZOuYELs0W/dYrkiTEeW29j95HqqpwEDd7xl0uOL4YkHos5FSRqOPuyiKvyBntd0hhKeOY5Vti/XHDGFYCdoD/fAhhh9NYPwVJQzQ6hxZDEkzGngkQRm9vcAAchjQ/SPS7UkENLq9dI7OQGXreMrb0LKVMgiNlnbgWJTkYwl3QUFBHHVaggdr6Dzb9/zQSCy6hDseR/A+9nO4R/vIXER2roEgT6v+9tyAL33mFTGHxP3Lkt/32w9sMUHgpxlMZ9vdwxqsyUH8pAjZMwujKrINmi8zPeYuMnhCTcRGPgSEdBURdQDxGw3iolL9wSQRUHhTbOJO4EVRVc7OTQ3YYRyNznnQaSNaBezhlyxAaS1TbecCeiU2rILniO9WsKlLVhQ0nZBXPfLOOkikMx7Qhsv31wCw/NOmemNH7kuHaDejmHfaNeW9z+B8oWoeGz5vrsvI33Kf9jRwwy/73lljVz3PHUzo41qzNpQCIo4X0WztRfku00PiWjJNwbrjVT+CfbdUrJKMEQLRo4pIYA5G1uH1JLyPNyxTAYplFL8Bi4D4PCQ6Q2QtxahSe/Y++PnI1bPrThskXnbRczx9iSRWDw2BGDzHXLrZxUDW3uRugfetCTJmJzL4dNo7xDY73+9ztA153WEQCQdADDmjZ2m3CpOk0oAJAP6rBzecrhp0z2+24NqJftkz54H4CebrjhnpwhskUr8+GvbEKA343wYm6Dm6WfWXS3R8whU0vI177is47AnvXYq0VAWh5zrDYT/uXfhrWdgjO65HAEwLyvDofdSchnL8H7oNlWV05f3NMw/No1MUNki+b9u+NpSLACihhkPgWJehuHqtMf7iBQkChhf2cRxWGTAaaWkFeVsSeqk1cEHNdGkDTeMm2yZfrs3LhaNX+UkyaKojx4IQncB3YBOj7nnk13FKeI4tEYIlv8fgeIL+wMRNX8JZSEL3PbcgM6kwvyhO05tWb8sOWF1vetTMCUIfLr+Hm3vbdxlT3FKl/HoPqlZJTOm3YKLQlDJjsw6DSM3noFyYJ9KbGEjwH7IG/nUD/hhIeSjLqkW7cmfnjKJcPUlSNQtri2jHzB3p+MJNB8cGNAJhaCiCjz31tOEIQnFNwEEVEouAkiolBwE0REoeAmiIhCwU0QEYWCmyAiCgU3QUQUCm6CiCgU3AQRUSi4CSKiTD5wZGAMMuZuWlvLCkK6HiJCTGlUGO+/Ymqf3ZYwN/M9k7mTiCKPkJZLeJ9dwKU2owJwgngmPNF47hEMnJKMOhQciuY6hukzu4hiU+dS/oAyXbcKljnTb7nD3AmYhk1bXOAax22sX5c1bHH1nqdbESL6TD+49TY+NoHSnnmiT8PAeY+itoxueSNEmZyX3PhM6QAOX7ljuRsjsEUZXXMfOg0kKw0kOPUu9GscIotuWTQuGgoOOhJ5z4mZYUppObOiJAtVJKvApzLfyk3DwLmAUpZbGMJM2vuuWZ/JXMD5Lbd35RsudAF1vhVOySgJOi74i4HAWUaFND5IfNkE8eOZcocaa/U+tl7b8v5HMHAGlylhcy8LVAzzqJUuiz7LXRgus0+Ohcw3dvFdA1Lz0UlIEFNOy0Vs5uK4qNhpd7CBUwVwP7KBc7iZ1KkrTp6AC3Cv5RwvFy1HtvuxWOIVBTYxP0y/t1xI41OWM1sGGjglrEtjGDgDy1RxYM6GCeAncWHIcnf9X2Nd0LHFrcskhALW6X6amCMepbc8tpZGSWli9eQFutvDDJxZlCrNEQ2cQWUKSGhN2wQqxHG1x6ao8V7uhkvfLZuocx4rgpgHZtB+ak4iN4LQnyCIAWbu3fJ+q42iTikwQUzKD5+UwD1VK6XABDEdZjAtJwhiGsxcWk4QxHSg4CaIiELBTRARhYKbICIKBTdBRBQKboKIKBTcBBFRpvoSS791io9Ih3KnjbKuclLFxYrzdVT3yy+WVSUUTovL470483Sv0k4sefQSXQrx6Uoj9TZ2K3f4YBxr5aSKLTyhwabTQLLmHpXksuxEiCkFtx0smewU1+VOuPwK/4GGz5rb3tLAepgA1dvYrWhY38uhawkl2jjTAdk0w2hBw0lnAUM9xZ2Uk0ge2YUSKO3lcMQNvT2rKJ5DX6eFvJ1Dd2qlDR4TT9wXrE4DyUoVFy7110zhuiiGZQppua08GjSoTLCuFYRZlAZ+LBGb27y9ZQl53KEXxsl4e4dLQcQbvsxUOpJX7lDobXxsLqJedgeFiM29Z/AacGoD3b040FSgDF97rphCyy1hv8wiVfkyxXWFNI7KAKDhbMiq/dZXHEvLdkscxMtFZHQNn3UMBLRyUsWWCgAKkgWFS/WHCBOBgZTPeZvA3wa4v+u6RXC0LB4SSOmbnT5Xqiia6w9IHvn9AfxuPZTmNZDNDg9io/ySeI2iau6f+7i4t+Gsfz4bdxQ5mCX5Sy/NdetQrH2yPudvKfhjMmyfrGq/xrrQxEUHlnrLedvn3C/HcXVty/+Yj7lv3Hl1WaiOJuJ8mCL//NtfH/70j39Ped1/P5z+118f/vKra/Ht1cOf/vzXhz/+Ofw2LX795eGPf/7rwx//6+pBd32k/+PvD3/8278Gtu9Y9usvD3/88y8P//T7+/bq4fRX7rvcZ//8m2u7v/7C7du/Hv7yZ3tfncfo3w///PXf3Hp/fzi9de0TV+4//+ass/6PK7t+rn0bOLZeGMfMse7t1cNfuPqd/hdfX+e+eB0L57F2r+/cR/0ff3du/9dfHv7oOAYex8RrHzx+84cH57HW//F3x3qOerrK0H/9V4hjPuG+3V49/Ik/v0Iyv73lQhpH5Ry65Rw+oY1koRE+rUptoFvO4UrWsFqoYrcVIDYcKkzUcHauI7/DtVhCGptcBxr/mZyNWxonsy77nOhx3SVatP3vIuSw/ja9jUPVWefYWjpciq23sWvKLgunOONvdRxSSgBCGvvWfaqINzLnqx+QWDIFV8ZvuyGkl5Bk+1ilZJQEQ9E1VQalnbG1ZeTVG/v84n6/WEpi6wUd8x+0bz98yOc0iK29Q12r4rCljdQpwjqhVBwUmjh45dOjPVSYqI8lebRxp7a21lnezqF+UmVGmFFSTc86e+EhfhTSOCqnYXZQDcOZhgIwzu3+9ztAXAqdGgdLLx+7o4t5+xIrzJPf04HjWpV7mgIAC0jogJzaQHengWShCsctVsAx/1H7FongngwJ65KCQz+zaQhhYkJQXJLHsNiPyrrGhUU5qToUU2aPcr91itVKO1yAB9TZjbwi4PL8G/pr4si94spJFYdiFt1t/t6RfRZ7tQgov6PP1+H2DpcAPniUNVx6+Yh0FBQRx1UKAAQkhAWUcgG97qkNdMsw7vVPgb132Aw45j9q3x45LddwVhmS9o6zrt7GAb9ep4EtdQHrkmj97ZumdxousaKKCzXAbDpUmMjS0eMatz29jTNPeePAjrhafVYXhoazE1scGXu1GKZA3zr3W23v45HaQF28xuootzVG/Xoaf9xYOmvxchEZ/Ro/d+z1z84DHmcESi8fj37rFMnaHUo586Ip4o3MCT4H1m/YtyrCCyTMD4KO+Q/at/lsuYUXQNPwjwMY6UWEl4voOcSKzp7t2Noy8gW+t3y4MDG29g5XOMVqocrVJ8yOSHif/YrVShVFo9y8dXEXkQAnjoSAuvlcn/+eZ7ruUWchjiuf5+Dydg5XLb7+jEw2i33fYypi862ApJW+LiAvcUZZIY2jPXASywWUduLI1O58j0WQSHM4w46JgX7tTI8lGd2ys0U1b/MG1tuWEHsFFK3fi507rH5Bx3zCfRPS+CBVsTVibzmZWAgiosxvbzlBEIFQcBNERKHgJoiIQsFNEBGFgpsgIgoFN0FEFApugogoFNwEEVEouAkiolBwE0REoeAmiIjypANH3MbSzICUbnBss/MFe6/PMZp6hiCeCU8W3JbG1hqBo+GsxQ1WNzxYyGbR5QK+3zrFz66x0k4/GQv4ZOGG5vUmCI4nSsvZ2N/8Ct+6ithc4wK9eo3ETm7ApBJbezfE+S1icy+HuqTjMNS4cYJ4HjxRcDOdz/EX1ftjw4TxfgJxv7wi4FL55jnAniCeI0/WoSZvZ1HSFCQL1QEjBfNtvZhMfs9pbgiCeNIONZY+b0LFQaGKZOAUPs6Os8GON4IghjFxy91vnRoa3KpnqzyIhP1yDlfZO2xVmKcq9moR0H7nUmp2IeiWw8xiYmDYJ38acz8IImpM3HKPO0dVTBKRaRq2yNQS8rWvnrOAhMNwh7/deLR5rQhi3niy3nLe5AkAfVXjWloJ+zuLKFbCtPxumHe8KMqPPpMmQcwTTyZIHJDXexkqh04jO+wlF4IgTMh+ShARhd4tJ4iIQsFNEBGFgpsgIgoFN0FEFApugogoFNwEEVEouAkiolBwE0REoeAmiIhCwU0QEYWCmyAiylSDu986xW5Ij9ko6yonwaPFlJMqkpV2SMWShrNK1TEGPfx3CWJ+mFJwM7sKtuxbyQAAIABJREFUry2eyrp6G7sF12gyj3UOgz73Ib/DZBDdcg518RqrMxngKg4Kpzhzq5wJIgRTCG4VBwUF2AljTRlhXb2N3YqG9b0sSgHDOZXmNRLSZOM95W0ZefKvERFjCg41CfuGi1z5MsV1hTSOygCg4cxvnU4DW1ocV2/vcDyJ1Vj/HT1Xucma2VwOTorQk+PoNa9xyY01d45X5/xww8p6m0Xi3B6jbjnZ+bHtlSqK5rY6DSTPF1ESr1FUufUd24FrogZzWzJQU3A8UBciijzpjCPTRcVB7Q6lvQ3EbhsTlaQ0r3EpyTgCjCAB6uWcHZzVNt5wYoljBbgq56y/3RMu9FttlgWEKavWRmkvh64AI6BPcbb3DptCGkflFzgofEXCHYT6NXpvc+huG393GkjW7lDayzkuHLstwSGWPK7doF7OYd+ss6suRLSY295y5URBL5seu+U5rtkdaluwWznli45MVratrCkZJWj4zDWK+bdcQOhtHKoC6tx0RrG1NOSwZe1wgSuk8UG6x4U6JA0RnI53th3+WIjYfDvocc/v2LZZORsnFXTEmcuWu986Zen49vi6Y+eURCZsZpRLtYlk07W+a0ojC8O6+mnggzHKAvCTuBBuB1zbSay4jgXncaeW+Xkyh8Gt4bNyD+jXWC1cc8t1rBa0Ce8j2cwo+bdege+DbxCNURaA37R7a/q0cLDtXHzXgJTri6R6ftY8clrOnimHe54ddl3baW792xGYSLFsBHangWShAWWMGssrAo5rI3xXeI11QcfWif08rt9qQwlZ1vE59wiu08CWKuDDiBMwyCsCLptt7pEZm3sN8mtqtZ8xc9hyPzKpDVxlT7FaqNrLvEytFiI297JApYlkQbHXXwtXVl4GPhaqhvGV9WDbs7BIeJ/9ilW+t9ynzt2dBpKVKorGIpqlhSD76Q/DfDw1WtpOEGGZ295ygiCCoeAmiIhCaTlBRBRquQkiolBwE0REoeAmiIhCwU0QEYWCmyAiCgU3QUQUCm6CiCjzK0jsNJySw9CusacUJDJfXJDccWI6jRH2fQbR29id5/rPMFMaOMLcaMcAMtkprsuphvIrzo/63+9cKqHR4MdzKydVrFYQMDhkXGyt1OOg4ez8DnkJuFA1bM7jQBFLp0VMm7kWJGbE6QjA5laQqH/DBUS8z4pAUxlriCsRXeZWkDi61CAAhyCRjdYqWmkiJzuES4ToJ0i0lnMjv162sVu5wweuLHYBs5f1W6ec8tm5XS/6qgbIacQEYF1o4qIDyK4RZo4yJRl1KDgUueGgvFhRiKMua9jSlo2MyE8I6TpGjgzKzswA59BT72Ok2p64WyZ/dGRQHeeyUY/Rc2aux3NfNm2Fkbc2KRwOQaL+DT05i+6aCPPkPmxp7AQ1batl40TrGGeq33Ie4fVAACrNayCbtQNbEe0yWqdYPVEDbjs0fFaA9RwLnDfyAopfVOyn7PXdZZrCxox5UXQLHPU2div3gGuTTiEkOyYXrmN00JGwnzLddvZnSsfe1tBjlFpCvvYVn3XYosdzHfm3G/YxGekYPW/mtrdc3uZMLHtx9GqjdVz5CRIhpLFv3buKeCMv4FLjenu49D2WkjhRos9yC1bW8RfzpFZxoS5gXWJB8Fm5d4gXY2vLyKs3/ql2R0ERIt4YdyYxSUTGsf5gmUhtOG6HBgSOQhqfsoMON6cQ8hsudN4Ww2SM9n6BO14iZF79NPQYSVjnBZHGttZT3vsz9Bg9c+a65bYQ0viU1bDqarmCCGrpnQ5y2C2ZaTwpVOHwfvstdxFbW0a+cAMFEuTODY6lZaY0ho6ezi44x45vLCChA7JHWcoXHdB1l0cOgJllQEdPX0Dipd8R8BErDuP2DpfQccnbZQBAWEQf7KJbP6kyKw1vjwl5jORsHKh+Q39NBFQNyKaNi8/ox+i5E43gNphGB5tyUsWhmEXXMKv2W6dY5Z/YpTbQLcNyjIMPcK/lDiSsSwouOgC+6MivbBjLBSSEBZRyYeWOrNUfCJBOA8lzFhisdbtHz2FaZQHN91X0XGLF37Qh0zy9XERGWMSngCcL8nYOXRjHrtJ2BviwYyS8xjra+KxrAHfbMfoxIuZQkGis2+KaVr2Nj00YKS4mECQardkr0fr7s2Kf7P1Ww34eK7xAYshyL+QVAcdfGrhQzXQTYCk7UKyGfN7eucGxYKfkFqkl5HXTiy5hXXILGBWuo9C45eB72cPMuya8xjqu8dHzd9JwdmJvL/Zq0fok/DFix+KiqeAC/D6OeIyIOW65FQXJpnlaTmtqHHb/mLRSvwXkJfseNPYKKHISwvyOMcOH33IvUkvI11inE9/LG1t7h7pWdabZns/xWSdTRpZ97lkVbDVVbG5LkLezKFWadpmSjLqk49C1zS0zxRbiqGcXcBl4fRWxuSejV3D62NltjogEuO1BQN3szBvhGMUkEWheI7Gz4djH8MeIAMjE8swYLmU0b0vInDr/zG1vOTE6/VYbRZ2/HXDRaWDL6sEn5p35TcuJoThf+AAGXvpwzwxKM39GCkrLCSKiUFpOEBGFgpsgIgoFN0FEFApugogoFNwEEVEouAkiolBwE0REoeAmiIgy1eBWTvxMoioOnsBwqZxUkTwJGNbUaTyi6ZQgZovpBbfexqEmIA9zyOHTI2/nHCOElJOwQ0gJInpMLbiZrE/GexkoNocNCiYI4rGZ0sARW9YXg4hM01AJBXxjqJXTZdF0D3pghhQRJe0aRZ0NeHijnmJVW0Z3W7DtnGoTyaYxIML47m+ubTvNnV+R2BFxUWO+dGbv1Lm6eNSDbJzEDDKd4Db82Z8EABi0fLoZauU0Atu2aHooewDm2NrLGR4ycPfSIjb3cki4xybfAtCvcYgsumXR0P0olrmTcY/iuWH71NvYrTSRbAqol3PYd9tQ9TY+NhdRL79jAd1RSdZHzAxTScuV5jUgvzaCzm35dDPcysk0QnF84oQBsbVlTiFkIC2PPjyRL1dI44NkeMQsFlDKGXUTXmNdAGcI9bCh4g49889UcLZCEE/JFFpuFRcqcKk6tTvAV5zpkkfwDbNyGlMFiUsujZCAhKC4hH+PjYiEyDvVXAhpHO21sWvogyZxpxPEtJk8uI1W1j3PlnJSxaHv/FXBVs7Yq0VA+R19wBXgwReFH4KQxlE5DWvSPwpwYkaYOC1XvujIWCm5jbwi4FL55vFMeZiVE4bF02nY7LfaDgn/TNBpcBMhCEjMUt2IZ8/ELfehuoD1rEfrbFg+f+6kB1qyYVZONqcYcMAbNj2yg2HI2ThQGewtnxovF9GrVJE0/sxksziiVpuYEWZEszTcykkQxGjMxLvlQ62cBEGMzA+xnw61chIEMTEzkpYTBDFtZiItJwhi+lBwE0REoeAmiIhCwU0QEYWCmyAiCgU3QUQUCm6CiChTDe5+6zS0s2yUdZWTKjdAg4eNxEoa/7zXcaPhrGJ/h/1rjCZZINHi7KO3sfsEUs5ZZkpvqNlKpEx2iuvqbexWmO4ov+L9WWInh+4Yr63yY6+Vkyq23JaXH4Xexm7lDh/ojb3JENI4Kv/oSvxYptBys2DFTs5pU5l0Xb2N3YqG9b0sSh5DKZXmNZDNTmWgiZyNI6Pf4bfJiyKImWEKLbeE/TKLVOXLFNe1rrwazgY+VHGhCviw7WNImRjNFiwCAIwho+6LTKeBZM1YyTEk1RAt8t/pNJA8X7TW8RQrcuVdFqqGvFEwRszJQM2UNA7WJ0jUqJxUsWVar7h6hpM7GiP25Dh6zWtcWt93HSOHaHLw2NRlDVvasrHOOGU6hZlMXCkOWe78DdxjGux1ud+Mk2M6jonh+ZunMRA/ZODIxOi/oycsAq1TJM0fa4zx3gwNZ1WWBcjm35UmiqKM7p5xYnUaSFYaSPA/rH6N1S8yuuUNACyAVk9eOE9w3/r7iBVTG+juudNy1i9xXLsxJI1GsFbbeMMHKSec7LdOsXqisrp0GtjS4vZnHTW4Dj4cK4Y0kjtGF7IpsGR/W6JJKxByrGy9jd3KPSCNX6ZywgszNShG/4rfcjcssLn9hYqDQhMHr3Leckxj+1vmcZxD5re3XL/GIdLolnPolnOoi9dYDZptxMVxzexMawO5nH0F17/hQhdQ53/QlIySoOOCP3GEOK64deRsHBn1ZoSOudHEivkd+8LivI0YFE7G1paR5+vC3XLEUhJ3AQxfB4fQ0jhGH6xWT8TmW8GSYipfdE4qCUBI41N2YaIyAXBiShFyShy63MY4Rjt8qyvhfdYt8uTkmMb2oTHdF1Ib6M5Rqw3Ma8sNAOBPBOOErwz3pZuYHWr91ilWuVYQt3e4FBbxybE2EyVefNcAz5MHgPACCdyFrPo0xYo6ejq7WB07li8goQNyagPdnQaShSoc6fwkdbi9wyV0duvg2K9F9A0fXmJlxFumwDLZbDL1kyqSBcWRpfktd+It5fR39UWD+QzuUQJpCLG1NEpKEx9br1nr/XLRahXdP7ivBRVgtwqjbHhqYkUBCWEBpZxHn4BJagPdMoz0+BTgA3ycOrxcREZYxCfPQGK3ET3XhfA37X5gzfBlMuTtHLoYdNj7LbcJMOeKLyIZ2MCjp+XsmXK459mjrCthXdKxxaXhSvMal9KS3fkR+tm1iM1cHGi22TNR4TXWBWfZ6DSwpbpMMfo1frbSdPO+3UxFBSSEe1yo5r6oOKjpjvKmJ1YU8UYGilXv5+79VsN+1iu8QGIadRBeYx1OgaWzPgu4bCrcbUEbh8PumALL1HB2Yu9f7NXikOXedTqu8ecE+03yKyHvp0c6p2aD+Wy54UrHgMHe2lEQ0viUPcWq0Wm2uZdlYkWzbK+eZCGOxJcqkjXY2+fvF3NxXFRMwaOA+o6A43Pj4yCxopDGB6mKLa63fBixtXeoa1VbOGnWZ1tC7BVQNFJvgKXfrIWfRO4oYnNPRq/gdNWbqb1Zny0zxRbiqGcXcBl43Q4qU0QCnFATAupGB6HfcjextXe4wilWubQ/6p55MrEQT4LintqJeHTmt7ecmB86DWypC1iXKLCfkrlNy4kZhn+BBYDvS0DEo0JpOUFEFErLCSKiUHATRESh4CaIiELBTRARhYKbICIKBTdBRBQKboKIKBTcBBFRZjS42Qgxc9RSv3U6p7ZRFQczYOBUTsKOtjOO9Ylta3nuBtF5ZiZeP+23TrFq+bUGia29Q3ftiStFkEF0zpnRlpsgiEmZTsvtHigwYK30N4H+Zpk5FSQLivcYW5c5dMBOym/PWLckXqOommN2/QyZbtzWU34c9xA7psf3M9m4LUfwO27ni8wM2ryHNcDiljueA+PUnfviNdbcYfkU4igN7GrY4+H87cwMqw7FsqkOfDfQeuqFf13Y9kSUtGsUdXZs3qiDy6y6DTObZhdRbOrWMfWzwkaFyYO700CydofSnikBYCf4bksINXZX3s7hakha7mSIeRMA9Gv03ubQ3WZ/hjVkQv+Gnqvcw5bG7UeQHdNdL8NSigWUgnZHv8YhsuiWRUMTVEVRMqyqehu7la840yXj2LJAsPdlUC3kNqGaJtKM9VPY7ng2mYOKg0IbZ1LIUVuqgosd49h2GkjWuO+GtJ5yhQ2vi6oBezl0TT2x17KwZlNt2bLV+lphI8TEaTkzXaa5E4NZIy+Vb4/TARbCkgkhjveu1n+4IROAkMY+V+4beYH7HhBoxxyoFyBvy8gP2x8hjk/Gd2KSiAwWUMoa0SC8xrpwz9xfANC5wTG3PmCYTnUNn3XAy4SK1IZzAgijDPv4SHifBaeEGoIk2wGTklHi6hfWejpSXaTlwYuOY9kIZtOs6yrja4WNBhO33J6mywDJ4MQMsWR6bS+cIZPhSNWAgFbHo14D1tQRMcSPfj6z/vc7QFwKkP95Wz4HytB1p5IJACQdwCQyhdGtp9Opy5hmUz8rbISYOLh9lb/CIn6atHAvQlgyvRhuyLRVQN1t/p5vhHq5L2iGETXwvnsE/E9Y8+T2snyyoDNjJfZqEZDC3gKNzijW0+nUZQKzqZ8VNiJMnJbLKwIuTXMoAMsEKr82DuwQE+ioBFoyvQhryDRaHktfzNK98PV6gQR0HHL1Uppmx9uUSC0hrzv3vd9qowgRbwTA9Ksfn3PvBHQUroPQKENVQs6IOgpjWE+nUpfxzKa+VtgIMXmHmpnecIZNZ0/lEBMojPvGQkBvuYNg86bX+uEMmeweOmnJ/ReQlwLuFweQsF8GDrh65Xdk5NWvI5Qx+jbctxnmLYi1v5KMuqTjkC9j73fscubTaaWlo1tPp1OXccym/lbY6ECaJeJRIevpj4NeYiEeD7Ke/lBm4vVTIiKQ9XSmoLScICIKpeUEEVEouAkiolBwE0REoeAmiIhCwU0QEYWCmyAiCgU3QUQUCm6CiChTfUOt3zrFR6RDvUc8yrrKSRUXK9xAgIE3oUwGlUO+6G3sVpyjtoYPWnl8mL3FVCt5KKpC41ZGASMdn1lAb2O3omGd3nIbiykFt+3BymSnuC4XgPkVbrk5DpeDDVCQw524xsUhv5PDkRXMKg4KVSQHnGWPiN7GbuUOH7iAM8edTwv+gqWcVLHlM5Z9JiH76kRMIS23PVj1oTExwrrWVTuL0rCrtt7GoepUHAXWwQhsZystYb/MhmhG1dMtZ+OWUIKIPlNouSXsl1mkKl+muK511dZwNmRVpXkNZLMhW23m7bryTL8lrEsKDlUNm2uiZ8vqdqy7rZv8RSPQFsrdWlwWqpaRc5jD3bm9SdPsIRbUQJOpt1E00Ezru72g5fxtiftWwzUwZcAm697+82L+R4WZrfZ2uGGF3h4ym59EU4oYpjwNnzXbNNpvnWL1vI33KS7t9bOFpjbQ3Ru8eATW3WU27bdOsWrZV4fX9azKXwSHmEf///bO5rVt5I3j32sgsBdrY0gvIYWuMaL6A5wuBOzm3l5a7IP3sKXXHkJDfXQxG9hcQy8N1NnksOm5ic0Gmvhet6oJCxt6aVj/Il8WCjn6d5iRPJL1MvJLak2eDxTi2pqRNHo0L9J8Rspk6jGKRphpgyy0cnZaHthpA2fPBI311iGWxfMn2GTZPrfdZtwbROJHy3tmF8hL9rUnThoPHg8COaWnh5u9IbbQeAybTVOrd1A2LwS90DA7u3VkNurIbLSAUmlQM0eYR+VMph6jqISZNshCG2mn5WnvizeyrIGqZqEh3gxEO6yWw1Ode91uIAmvubt43wYKJXkZQJQV82v3CvfSMYZmh0buNTyV3zoGFs4tFqw7rv+fw7IFGAG7bHcTescHWKm38LPtNw81jwZYbaOIMNMGWWil7LS+dtl0sKCTSHhwW/+ggTRexnlMkl1EebeN152cT1PNRMOcQyEveaHYK6HU1tjFyPvo00HDsjaHamm0x0Kp1Ryq7SZeHN/Gq9V0hHmU1XRxTKYApMy0QRbaSDttiC57ILUkRKbcLGerdcqtMBnnt4ye2cWJn762c4jMxmFAc1XHelHDzm7dY920V/MQFljgRlOn2We18EIYPGP990H+PbM7WdupizR+NoBKfdTVTpmoErapNtQ8OoLJFIgw0wZZaCXttNptFDQLj/aEnegc4pGpoXAD+9MyJLrm/tq9CtXXBuIMZonWTUbZVQvoWC9eDIyoHpunaG0FgHu6hntx9kPL4anObaESo7q2XdTVlI4zGqzl8DJ/gBU+CBVmHo1vMgXCzbTBFlppO+2zPLDVdM534l7KuWZIsyQi9J+DF8e7uZDJNFlQcBNyOAs+0qugSSHRzXJiipDJNPFQzU0QipL4l1gIgvCHgpsgFIWCmyAUhYKbIBSFgpsgFIWCmyAUhYKbIBRlosHdOz6QnvgR57ftPe8kD8BxnvF/8hNO2ASVjLBtZivOZAwTmxsHM6tiau/VkdmLmuEB2OfBf+JIcpE/fvVJpiARXbzdEu0dJjY3mthckLeXesWBK1tIjjgwhEkLFpPGTT9+kYQKEi2cW3Mo6PYEBh2FMYwbxmMDZRIHEoqRUEEiExk+app4wGV9sSQLXqz/cC5+9r5XHTSt0pY1iDW+4x5bw60wQaJUXlwQWEyjsctaMGx7SxAKuqc9xhE4hsKPrZr+goopbOfaX+/75m6BYbloALuC4HCENAOFkB7vvMs44xJMuuWLQefLv4wGTrgkzoRL7MQRl5pnzEkN7eYXnOgGXgHC7KeSy7j55FgbLuDsIsq7f+O9BSdv5h5jEsIeECxI1GTzukLlCDitlZCyWniy1USmqWG/VsI6//32cTfg4pMQOIZhfcH5fb7vzrkRpImdQ2QcdZNXjmgvsDCH6qhpWi28aM5jv/aQf2dyeQSTPS473nkzQKpoCzgG++RregkrowST0NFyNhjUuFvCWa2Es1oOqMezuAzEgeIKH3ZwCjYWLvk7af/jM+jGpIKVpj2Aw1sQuhBoIYJEubzmUC3xC1G7jYIGQVzIjSndoNE9CYFjGC6Boo80MWugii7eW/CRI/LuzjhpAgC+4dz+O6u7xAyDbpgOw681wiWQL4V9Sq3eQdkS00dIGaXx4FkpkbU2kNSau9NGBaJ7nCmEGvV/0FtNS9VK/s3Trr8YMMTfldLTuNe8QBs6jM4FdvQ7OJO648fPyxYCxnKGTUzgyPb3xHRbVgCgfAkAfgLDMdPM5vCKG3MqEMtMsLI0Edht8tdYa1jW2ix4E14zR5HM4J4aITZNbR63/DbRbqOgNZln7aOF8t01v19NJq+4TFTgyPa3fD+gz94B4L0p8bGM5VHTBPjYSw72o89NV4CX8AD24y8MBXiw6XYOyz9GHnDiSaYgMbuIsvUFr51+FhfuG7dZIYYKEsMx7mo4sSWCfmkPwd3cRwfY7rqbnJPPKx6TFjgadzXs7Aac1+wiyrCwLZRfu/klMr/QNDuHwnN4DctOTWtiU3iWfSvt9akL+2S5hY294xYqSONnydZVXGnnLJHQmlvHeg3sJRbnvwxn0GQssms4Kx4iw5uCgIRPjeuSz/Mxg3KUvGIwtsDRS3YNp/kDrIhecsczrnPh4qCJXS6ytddGTvPHeZwLAsd7+TwfQNOw3BVEidoSTp/5PVu1rxOh2R/kRVcQMrFMhHGW2lUYn7XWiOsjoaPls0V7r40d/Q4FtgvWxTjRFymwvxMJbZbPCPZIdGCz8CbhXYETN3qFzVmAmuUEoSjULCcIRaHgJghFoeAmCEWh4CYIRaHgJghFoeAmCEWh4CYIRaHgJghFUT6423vCrB6rhSdTNZe6zag30cTZOz6QP+bOYUzz7Aj7Epp+XJPtlIyxU7ouv+vrp+29OrbT1+incrxs1wOZOL8vqdWHOFsdfB72q80IU7oula+5CeKmMpmaO8Be2Ts+wEo7PZg/6wgBc0CdTzIwm8g0BcFhoAmTTUw4v28Au7bNcliM6LJlakuouhoF7qmZ4eZLn/R0A/toS7c23DXFsMnUa+L0mjrd++KdmCFuy9POz6PStAImbMQ3qQ7n6SOidJWXhuqQi96TRshkkkDTqYC3ted7jdlGWuHvr3t1XsZsfrtLs3UpmlT98w07JreyK6ycuDTS7rU4c8s9U4YDzK6x6Y/L53f9n56/638QP/9+2rf4xw9/vOn/+te//X7/3/7B72/6v30ebDr4TiYttr34/Yc/3rjysv760/WZpSfm8an/2/M/+weXwu+fC/v0+V3/J+/3oel58Un/j0/Cd2+Gj8fz/eD8uNPqX572f3PyZdu6j0tMK2jfhPwvT/u/PhfPpzdN7/71/ctH/Gyn6Wzjn6brfLv2R0z70+BvEd9rwn3Onfw816K7PHzOid8xuxjOj+23ZDl59+fzJ/63WNbeOPnU/yDETBzGbpZH2SuN/BLQbOPtcQuVtBF6B4o2YQLl4uAuaOSXBJtnF+/bVyjfFywb2bXoxQ8CzZcjpheKYDLleiZ0mePLNnUONE3MrNow+WCglsO6U4v7WU/nUM1H7VwMkyq3me6LtWzWQFWzmC8OPuWl5fAyLyiPhoyoXEn1MWjALdh0OtiHRWEBCQvnWEJVF8sMbvtsJCFlEkC5KLRetBye6lfy5STYZ1NZPdAIE2l2lWDsZnmovVIDL/ADrDTnsV8Lu/giTJiRIgS2CsnkxHeTTi+c3v++AZaFlY0v7i90C4DgARfjYqwbTYRJ9dLPZipKHeFvb/WmAQsnokIJALT5YWmhFmQ69cLspY0OYOAC54aB9YVvyHw0sf7jf2ggjZfXLM3wOtwCy8nWam3UEezalzO7yjB2cEfaK2HidXMeZd0KkecDUibMUPyUteyGgZEH468mnF4wqYV5QA8eybX7mmePhb7mNL19IYpl+4bgZ2/92r1yp6HN46WssyzQdCrCasPKRxMFfGOrzGiLKO9eoH0XOBlSGU+fr90r55qILKfsGs5q4P3qAyAwwMPNrjKM3SwPtVfyBftQXMP6YwPLLtNn3LSiYDeHnSPhuWan7TaDxIKtPza59CLILqJstgOeoXLH+cJgcO19+8rvh5NDu42CZuGR+My6c4hHpoYCD7hb6TmcNNuD8rJa2DY9acBtHw0k0HQ6TEpP4173b2x3bYupjoL+DdtHFsp3p/+Yy31NsHPylC8/FFZOvePDwfWv/RCgfJY0u0ow/mh5iL3y615TWDxAx3rxAhnhbmXkl3jzgzdRQu2a0dhLDDlNW93Avm5he8RDMx7nUd1qTiy9cGx7qGB0dZpurC+Y2a07TwnK+uiFLofQPLQto56R39TqQ5xCKC9tCfv5OZx0xTQMnG+4u1q+Te5A06kP/KbREBTQt9LAianhaUirT7TBjjwCDaBsAC826nw0m5WRPW4RVk6pBaAimG7LxZJPrS1rdo2GNEuxsB/HjX5hEMR1QS+xxKB33ELFGjRLCWKWIftpCN7lb+VecCCI2YCa5QShKNQsJwhFoeAmCEWh4CYIRaHgJghFoeAmCEWh4CYIRaHgJghFmUxwWy2WMUVuAAAB8UlEQVQ82agjM1X5YFje3yFfgphxJvASy/W+bz2zkjuCmDEmUHNfr9SAIAg5xq65nzhT38Cnp/2A16LsDXBL6yAnJnSL99j0uMJHt+GCTdvzyOUw/E64O+1oUaGMqI8gZp2xJ468qhme4JIU0pttNIolnD0GD+QW3uqiARXYr5VYUFktvL1k87VPI5rlLDDnsV97KJhBm9hcELsNV6gcAae1ElK8W/Foz2RpWi28ELfvmCPKIwji+/L9RstDxIRvjyyXCBFaDg+k+vNcaihuCx2/5Oc8Ur4oKZ6EqI8gZpwZfBQ2Th/ef9vUwnyk0dJBy+HVszQaW3VkNqawdAxBXBMzGNwalp1afILbpn+QF+dpObyqlXBWM4BdCnAimUwhuFmAOR5nmNjcjfMQmtktXaJEq4W3UgHmsy3PX1qcF0PURxCzzBRMLGk8KC2hYXuXoWG/qGHnSD6FIfEe5lB9Zn8XLrkb3jbmcixxRH0EMcOQiYUgFGUG+9wEQUwCCm6CUBQKboJQFApuglAUCm6CUBQKboJQFApuglAUCm6CUBQKboJQFApuglAUCm6CUBQKboJQFApuglAUCm6CUBQKboJQFApuglAUCm6CUBQKboJQFApuglAUCm6CUBQKboJQFApuglAUCm6CUBQKboJQlP8DB07nBFjyCocAAAAASUVORK5CYII=)"
      ],
      "metadata": {
        "id": "xXzD4qv_kby8"
      }
    },
    {
      "cell_type": "code",
      "metadata": {
        "id": "lA4zlMjyoRCU"
      },
      "source": [
        "#import modules\n",
        "import numpy as np\n",
        "import pandas as pd\n",
        "import itertools\n",
        "from sklearn.model_selection import train_test_split\n",
        "from sklearn.feature_extraction.text import TfidfVectorizer\n",
        "from sklearn.linear_model import PassiveAggressiveClassifier, LogisticRegression\n",
        "from sklearn.naive_bayes import MultinomialNB\n",
        "from sklearn.metrics import accuracy_score, confusion_matrix, classification_report, f1_score\n",
        "from sklearn.decomposition import PCA\n",
        "import seaborn as sns\n",
        "import random\n"
      ],
      "execution_count": 22,
      "outputs": []
    },
    {
      "cell_type": "code",
      "metadata": {
        "id": "SXzIpZXUokIH",
        "colab": {
          "base_uri": "https://localhost:8080/"
        },
        "outputId": "f567332e-e38b-42a7-f76f-402e2bd5160d"
      },
      "source": [
        "#Gdrive access\n",
        "from google.colab import drive\n",
        "drive.mount(\"/content/gdrive\")"
      ],
      "execution_count": 23,
      "outputs": [
        {
          "output_type": "stream",
          "name": "stdout",
          "text": [
            "Drive already mounted at /content/gdrive; to attempt to forcibly remount, call drive.mount(\"/content/gdrive\", force_remount=True).\n"
          ]
        }
      ]
    },
    {
      "cell_type": "code",
      "metadata": {
        "id": "aTD1a_N-o06T",
        "colab": {
          "base_uri": "https://localhost:8080/",
          "height": 206
        },
        "outputId": "46d8f9f4-e2cf-4e14-b677-24808f0486c0"
      },
      "source": [
        "#Read the data\n",
        "df = pd.read_csv('/content/news.csv')\n",
        "\n",
        "#Get shape and head\n",
        "df.shape\n",
        "df.head()"
      ],
      "execution_count": 24,
      "outputs": [
        {
          "output_type": "execute_result",
          "data": {
            "text/plain": [
              "   Unnamed: 0                                              title  \\\n",
              "0        8476                       You Can Smell Hillary’s Fear   \n",
              "1       10294  Watch The Exact Moment Paul Ryan Committed Pol...   \n",
              "2        3608        Kerry to go to Paris in gesture of sympathy   \n",
              "3       10142  Bernie supporters on Twitter erupt in anger ag...   \n",
              "4         875   The Battle of New York: Why This Primary Matters   \n",
              "\n",
              "                                                text label  \n",
              "0  Daniel Greenfield, a Shillman Journalism Fello...  FAKE  \n",
              "1  Google Pinterest Digg Linkedin Reddit Stumbleu...  FAKE  \n",
              "2  U.S. Secretary of State John F. Kerry said Mon...  REAL  \n",
              "3  — Kaydee King (@KaydeeKing) November 9, 2016 T...  FAKE  \n",
              "4  It's primary day in New York and front-runners...  REAL  "
            ],
            "text/html": [
              "\n",
              "  <div id=\"df-6394e73b-b1f9-4c5f-a587-af465d8e19d5\">\n",
              "    <div class=\"colab-df-container\">\n",
              "      <div>\n",
              "<style scoped>\n",
              "    .dataframe tbody tr th:only-of-type {\n",
              "        vertical-align: middle;\n",
              "    }\n",
              "\n",
              "    .dataframe tbody tr th {\n",
              "        vertical-align: top;\n",
              "    }\n",
              "\n",
              "    .dataframe thead th {\n",
              "        text-align: right;\n",
              "    }\n",
              "</style>\n",
              "<table border=\"1\" class=\"dataframe\">\n",
              "  <thead>\n",
              "    <tr style=\"text-align: right;\">\n",
              "      <th></th>\n",
              "      <th>Unnamed: 0</th>\n",
              "      <th>title</th>\n",
              "      <th>text</th>\n",
              "      <th>label</th>\n",
              "    </tr>\n",
              "  </thead>\n",
              "  <tbody>\n",
              "    <tr>\n",
              "      <th>0</th>\n",
              "      <td>8476</td>\n",
              "      <td>You Can Smell Hillary’s Fear</td>\n",
              "      <td>Daniel Greenfield, a Shillman Journalism Fello...</td>\n",
              "      <td>FAKE</td>\n",
              "    </tr>\n",
              "    <tr>\n",
              "      <th>1</th>\n",
              "      <td>10294</td>\n",
              "      <td>Watch The Exact Moment Paul Ryan Committed Pol...</td>\n",
              "      <td>Google Pinterest Digg Linkedin Reddit Stumbleu...</td>\n",
              "      <td>FAKE</td>\n",
              "    </tr>\n",
              "    <tr>\n",
              "      <th>2</th>\n",
              "      <td>3608</td>\n",
              "      <td>Kerry to go to Paris in gesture of sympathy</td>\n",
              "      <td>U.S. Secretary of State John F. Kerry said Mon...</td>\n",
              "      <td>REAL</td>\n",
              "    </tr>\n",
              "    <tr>\n",
              "      <th>3</th>\n",
              "      <td>10142</td>\n",
              "      <td>Bernie supporters on Twitter erupt in anger ag...</td>\n",
              "      <td>— Kaydee King (@KaydeeKing) November 9, 2016 T...</td>\n",
              "      <td>FAKE</td>\n",
              "    </tr>\n",
              "    <tr>\n",
              "      <th>4</th>\n",
              "      <td>875</td>\n",
              "      <td>The Battle of New York: Why This Primary Matters</td>\n",
              "      <td>It's primary day in New York and front-runners...</td>\n",
              "      <td>REAL</td>\n",
              "    </tr>\n",
              "  </tbody>\n",
              "</table>\n",
              "</div>\n",
              "      <button class=\"colab-df-convert\" onclick=\"convertToInteractive('df-6394e73b-b1f9-4c5f-a587-af465d8e19d5')\"\n",
              "              title=\"Convert this dataframe to an interactive table.\"\n",
              "              style=\"display:none;\">\n",
              "        \n",
              "  <svg xmlns=\"http://www.w3.org/2000/svg\" height=\"24px\"viewBox=\"0 0 24 24\"\n",
              "       width=\"24px\">\n",
              "    <path d=\"M0 0h24v24H0V0z\" fill=\"none\"/>\n",
              "    <path d=\"M18.56 5.44l.94 2.06.94-2.06 2.06-.94-2.06-.94-.94-2.06-.94 2.06-2.06.94zm-11 1L8.5 8.5l.94-2.06 2.06-.94-2.06-.94L8.5 2.5l-.94 2.06-2.06.94zm10 10l.94 2.06.94-2.06 2.06-.94-2.06-.94-.94-2.06-.94 2.06-2.06.94z\"/><path d=\"M17.41 7.96l-1.37-1.37c-.4-.4-.92-.59-1.43-.59-.52 0-1.04.2-1.43.59L10.3 9.45l-7.72 7.72c-.78.78-.78 2.05 0 2.83L4 21.41c.39.39.9.59 1.41.59.51 0 1.02-.2 1.41-.59l7.78-7.78 2.81-2.81c.8-.78.8-2.07 0-2.86zM5.41 20L4 18.59l7.72-7.72 1.47 1.35L5.41 20z\"/>\n",
              "  </svg>\n",
              "      </button>\n",
              "      \n",
              "  <style>\n",
              "    .colab-df-container {\n",
              "      display:flex;\n",
              "      flex-wrap:wrap;\n",
              "      gap: 12px;\n",
              "    }\n",
              "\n",
              "    .colab-df-convert {\n",
              "      background-color: #E8F0FE;\n",
              "      border: none;\n",
              "      border-radius: 50%;\n",
              "      cursor: pointer;\n",
              "      display: none;\n",
              "      fill: #1967D2;\n",
              "      height: 32px;\n",
              "      padding: 0 0 0 0;\n",
              "      width: 32px;\n",
              "    }\n",
              "\n",
              "    .colab-df-convert:hover {\n",
              "      background-color: #E2EBFA;\n",
              "      box-shadow: 0px 1px 2px rgba(60, 64, 67, 0.3), 0px 1px 3px 1px rgba(60, 64, 67, 0.15);\n",
              "      fill: #174EA6;\n",
              "    }\n",
              "\n",
              "    [theme=dark] .colab-df-convert {\n",
              "      background-color: #3B4455;\n",
              "      fill: #D2E3FC;\n",
              "    }\n",
              "\n",
              "    [theme=dark] .colab-df-convert:hover {\n",
              "      background-color: #434B5C;\n",
              "      box-shadow: 0px 1px 3px 1px rgba(0, 0, 0, 0.15);\n",
              "      filter: drop-shadow(0px 1px 2px rgba(0, 0, 0, 0.3));\n",
              "      fill: #FFFFFF;\n",
              "    }\n",
              "  </style>\n",
              "\n",
              "      <script>\n",
              "        const buttonEl =\n",
              "          document.querySelector('#df-6394e73b-b1f9-4c5f-a587-af465d8e19d5 button.colab-df-convert');\n",
              "        buttonEl.style.display =\n",
              "          google.colab.kernel.accessAllowed ? 'block' : 'none';\n",
              "\n",
              "        async function convertToInteractive(key) {\n",
              "          const element = document.querySelector('#df-6394e73b-b1f9-4c5f-a587-af465d8e19d5');\n",
              "          const dataTable =\n",
              "            await google.colab.kernel.invokeFunction('convertToInteractive',\n",
              "                                                     [key], {});\n",
              "          if (!dataTable) return;\n",
              "\n",
              "          const docLinkHtml = 'Like what you see? Visit the ' +\n",
              "            '<a target=\"_blank\" href=https://colab.research.google.com/notebooks/data_table.ipynb>data table notebook</a>'\n",
              "            + ' to learn more about interactive tables.';\n",
              "          element.innerHTML = '';\n",
              "          dataTable['output_type'] = 'display_data';\n",
              "          await google.colab.output.renderOutput(dataTable, element);\n",
              "          const docLink = document.createElement('div');\n",
              "          docLink.innerHTML = docLinkHtml;\n",
              "          element.appendChild(docLink);\n",
              "        }\n",
              "      </script>\n",
              "    </div>\n",
              "  </div>\n",
              "  "
            ]
          },
          "metadata": {},
          "execution_count": 24
        }
      ]
    },
    {
      "cell_type": "code",
      "source": [
        "df[df['label'] == 'FAKE']"
      ],
      "metadata": {
        "colab": {
          "base_uri": "https://localhost:8080/",
          "height": 424
        },
        "id": "magbVpWNdWuc",
        "outputId": "830a7153-a3a0-4021-c404-04a671eb2a03"
      },
      "execution_count": 25,
      "outputs": [
        {
          "output_type": "execute_result",
          "data": {
            "text/plain": [
              "      Unnamed: 0                                              title  \\\n",
              "0           8476                       You Can Smell Hillary’s Fear   \n",
              "1          10294  Watch The Exact Moment Paul Ryan Committed Pol...   \n",
              "3          10142  Bernie supporters on Twitter erupt in anger ag...   \n",
              "5           6903                                        Tehran, USA   \n",
              "6           7341  Girl Horrified At What She Watches Boyfriend D...   \n",
              "...          ...                                                ...   \n",
              "6326        6143  DOJ COMPLAINT: Comey Under Fire Over Partisan ...   \n",
              "6328        9337  Radio Derb Is On The Air–Leonardo And Brazil’s...   \n",
              "6329        8737  Assange claims ‘crazed’ Clinton campaign tried...   \n",
              "6331        8062  The ‘P’ in PBS Should Stand for ‘Plutocratic’ ...   \n",
              "6332        8622  Anti-Trump Protesters Are Tools of the Oligarc...   \n",
              "\n",
              "                                                   text label  \n",
              "0     Daniel Greenfield, a Shillman Journalism Fello...  FAKE  \n",
              "1     Google Pinterest Digg Linkedin Reddit Stumbleu...  FAKE  \n",
              "3     — Kaydee King (@KaydeeKing) November 9, 2016 T...  FAKE  \n",
              "5       \\nI’m not an immigrant, but my grandparents ...  FAKE  \n",
              "6     Share This Baylee Luciani (left), Screenshot o...  FAKE  \n",
              "...                                                 ...   ...  \n",
              "6326  DOJ COMPLAINT: Comey Under Fire Over Partisan ...  FAKE  \n",
              "6328                                                     FAKE  \n",
              "6329  Julian Assange has claimed the Hillary Clinton...  FAKE  \n",
              "6331  The ‘P’ in PBS Should Stand for ‘Plutocratic’ ...  FAKE  \n",
              "6332   Anti-Trump Protesters Are Tools of the Oligar...  FAKE  \n",
              "\n",
              "[3164 rows x 4 columns]"
            ],
            "text/html": [
              "\n",
              "  <div id=\"df-551b1e70-15e6-4b7f-8521-7e7b7b345138\">\n",
              "    <div class=\"colab-df-container\">\n",
              "      <div>\n",
              "<style scoped>\n",
              "    .dataframe tbody tr th:only-of-type {\n",
              "        vertical-align: middle;\n",
              "    }\n",
              "\n",
              "    .dataframe tbody tr th {\n",
              "        vertical-align: top;\n",
              "    }\n",
              "\n",
              "    .dataframe thead th {\n",
              "        text-align: right;\n",
              "    }\n",
              "</style>\n",
              "<table border=\"1\" class=\"dataframe\">\n",
              "  <thead>\n",
              "    <tr style=\"text-align: right;\">\n",
              "      <th></th>\n",
              "      <th>Unnamed: 0</th>\n",
              "      <th>title</th>\n",
              "      <th>text</th>\n",
              "      <th>label</th>\n",
              "    </tr>\n",
              "  </thead>\n",
              "  <tbody>\n",
              "    <tr>\n",
              "      <th>0</th>\n",
              "      <td>8476</td>\n",
              "      <td>You Can Smell Hillary’s Fear</td>\n",
              "      <td>Daniel Greenfield, a Shillman Journalism Fello...</td>\n",
              "      <td>FAKE</td>\n",
              "    </tr>\n",
              "    <tr>\n",
              "      <th>1</th>\n",
              "      <td>10294</td>\n",
              "      <td>Watch The Exact Moment Paul Ryan Committed Pol...</td>\n",
              "      <td>Google Pinterest Digg Linkedin Reddit Stumbleu...</td>\n",
              "      <td>FAKE</td>\n",
              "    </tr>\n",
              "    <tr>\n",
              "      <th>3</th>\n",
              "      <td>10142</td>\n",
              "      <td>Bernie supporters on Twitter erupt in anger ag...</td>\n",
              "      <td>— Kaydee King (@KaydeeKing) November 9, 2016 T...</td>\n",
              "      <td>FAKE</td>\n",
              "    </tr>\n",
              "    <tr>\n",
              "      <th>5</th>\n",
              "      <td>6903</td>\n",
              "      <td>Tehran, USA</td>\n",
              "      <td>\\nI’m not an immigrant, but my grandparents ...</td>\n",
              "      <td>FAKE</td>\n",
              "    </tr>\n",
              "    <tr>\n",
              "      <th>6</th>\n",
              "      <td>7341</td>\n",
              "      <td>Girl Horrified At What She Watches Boyfriend D...</td>\n",
              "      <td>Share This Baylee Luciani (left), Screenshot o...</td>\n",
              "      <td>FAKE</td>\n",
              "    </tr>\n",
              "    <tr>\n",
              "      <th>...</th>\n",
              "      <td>...</td>\n",
              "      <td>...</td>\n",
              "      <td>...</td>\n",
              "      <td>...</td>\n",
              "    </tr>\n",
              "    <tr>\n",
              "      <th>6326</th>\n",
              "      <td>6143</td>\n",
              "      <td>DOJ COMPLAINT: Comey Under Fire Over Partisan ...</td>\n",
              "      <td>DOJ COMPLAINT: Comey Under Fire Over Partisan ...</td>\n",
              "      <td>FAKE</td>\n",
              "    </tr>\n",
              "    <tr>\n",
              "      <th>6328</th>\n",
              "      <td>9337</td>\n",
              "      <td>Radio Derb Is On The Air–Leonardo And Brazil’s...</td>\n",
              "      <td></td>\n",
              "      <td>FAKE</td>\n",
              "    </tr>\n",
              "    <tr>\n",
              "      <th>6329</th>\n",
              "      <td>8737</td>\n",
              "      <td>Assange claims ‘crazed’ Clinton campaign tried...</td>\n",
              "      <td>Julian Assange has claimed the Hillary Clinton...</td>\n",
              "      <td>FAKE</td>\n",
              "    </tr>\n",
              "    <tr>\n",
              "      <th>6331</th>\n",
              "      <td>8062</td>\n",
              "      <td>The ‘P’ in PBS Should Stand for ‘Plutocratic’ ...</td>\n",
              "      <td>The ‘P’ in PBS Should Stand for ‘Plutocratic’ ...</td>\n",
              "      <td>FAKE</td>\n",
              "    </tr>\n",
              "    <tr>\n",
              "      <th>6332</th>\n",
              "      <td>8622</td>\n",
              "      <td>Anti-Trump Protesters Are Tools of the Oligarc...</td>\n",
              "      <td>Anti-Trump Protesters Are Tools of the Oligar...</td>\n",
              "      <td>FAKE</td>\n",
              "    </tr>\n",
              "  </tbody>\n",
              "</table>\n",
              "<p>3164 rows × 4 columns</p>\n",
              "</div>\n",
              "      <button class=\"colab-df-convert\" onclick=\"convertToInteractive('df-551b1e70-15e6-4b7f-8521-7e7b7b345138')\"\n",
              "              title=\"Convert this dataframe to an interactive table.\"\n",
              "              style=\"display:none;\">\n",
              "        \n",
              "  <svg xmlns=\"http://www.w3.org/2000/svg\" height=\"24px\"viewBox=\"0 0 24 24\"\n",
              "       width=\"24px\">\n",
              "    <path d=\"M0 0h24v24H0V0z\" fill=\"none\"/>\n",
              "    <path d=\"M18.56 5.44l.94 2.06.94-2.06 2.06-.94-2.06-.94-.94-2.06-.94 2.06-2.06.94zm-11 1L8.5 8.5l.94-2.06 2.06-.94-2.06-.94L8.5 2.5l-.94 2.06-2.06.94zm10 10l.94 2.06.94-2.06 2.06-.94-2.06-.94-.94-2.06-.94 2.06-2.06.94z\"/><path d=\"M17.41 7.96l-1.37-1.37c-.4-.4-.92-.59-1.43-.59-.52 0-1.04.2-1.43.59L10.3 9.45l-7.72 7.72c-.78.78-.78 2.05 0 2.83L4 21.41c.39.39.9.59 1.41.59.51 0 1.02-.2 1.41-.59l7.78-7.78 2.81-2.81c.8-.78.8-2.07 0-2.86zM5.41 20L4 18.59l7.72-7.72 1.47 1.35L5.41 20z\"/>\n",
              "  </svg>\n",
              "      </button>\n",
              "      \n",
              "  <style>\n",
              "    .colab-df-container {\n",
              "      display:flex;\n",
              "      flex-wrap:wrap;\n",
              "      gap: 12px;\n",
              "    }\n",
              "\n",
              "    .colab-df-convert {\n",
              "      background-color: #E8F0FE;\n",
              "      border: none;\n",
              "      border-radius: 50%;\n",
              "      cursor: pointer;\n",
              "      display: none;\n",
              "      fill: #1967D2;\n",
              "      height: 32px;\n",
              "      padding: 0 0 0 0;\n",
              "      width: 32px;\n",
              "    }\n",
              "\n",
              "    .colab-df-convert:hover {\n",
              "      background-color: #E2EBFA;\n",
              "      box-shadow: 0px 1px 2px rgba(60, 64, 67, 0.3), 0px 1px 3px 1px rgba(60, 64, 67, 0.15);\n",
              "      fill: #174EA6;\n",
              "    }\n",
              "\n",
              "    [theme=dark] .colab-df-convert {\n",
              "      background-color: #3B4455;\n",
              "      fill: #D2E3FC;\n",
              "    }\n",
              "\n",
              "    [theme=dark] .colab-df-convert:hover {\n",
              "      background-color: #434B5C;\n",
              "      box-shadow: 0px 1px 3px 1px rgba(0, 0, 0, 0.15);\n",
              "      filter: drop-shadow(0px 1px 2px rgba(0, 0, 0, 0.3));\n",
              "      fill: #FFFFFF;\n",
              "    }\n",
              "  </style>\n",
              "\n",
              "      <script>\n",
              "        const buttonEl =\n",
              "          document.querySelector('#df-551b1e70-15e6-4b7f-8521-7e7b7b345138 button.colab-df-convert');\n",
              "        buttonEl.style.display =\n",
              "          google.colab.kernel.accessAllowed ? 'block' : 'none';\n",
              "\n",
              "        async function convertToInteractive(key) {\n",
              "          const element = document.querySelector('#df-551b1e70-15e6-4b7f-8521-7e7b7b345138');\n",
              "          const dataTable =\n",
              "            await google.colab.kernel.invokeFunction('convertToInteractive',\n",
              "                                                     [key], {});\n",
              "          if (!dataTable) return;\n",
              "\n",
              "          const docLinkHtml = 'Like what you see? Visit the ' +\n",
              "            '<a target=\"_blank\" href=https://colab.research.google.com/notebooks/data_table.ipynb>data table notebook</a>'\n",
              "            + ' to learn more about interactive tables.';\n",
              "          element.innerHTML = '';\n",
              "          dataTable['output_type'] = 'display_data';\n",
              "          await google.colab.output.renderOutput(dataTable, element);\n",
              "          const docLink = document.createElement('div');\n",
              "          docLink.innerHTML = docLinkHtml;\n",
              "          element.appendChild(docLink);\n",
              "        }\n",
              "      </script>\n",
              "    </div>\n",
              "  </div>\n",
              "  "
            ]
          },
          "metadata": {},
          "execution_count": 25
        }
      ]
    },
    {
      "cell_type": "code",
      "metadata": {
        "colab": {
          "base_uri": "https://localhost:8080/"
        },
        "id": "xWXp-_ABpX80",
        "outputId": "cc5c0710-49f2-4484-c653-f196240088b2"
      },
      "source": [
        "#Get the labels\n",
        "labels = df.label\n",
        "labels.head()"
      ],
      "execution_count": 26,
      "outputs": [
        {
          "output_type": "execute_result",
          "data": {
            "text/plain": [
              "0    FAKE\n",
              "1    FAKE\n",
              "2    REAL\n",
              "3    FAKE\n",
              "4    REAL\n",
              "Name: label, dtype: object"
            ]
          },
          "metadata": {},
          "execution_count": 26
        }
      ]
    },
    {
      "cell_type": "code",
      "metadata": {
        "id": "bwj8usfrpcSK"
      },
      "source": [
        "# Split the dataset\n",
        "x_train, x_test, y_train, y_test = train_test_split(df['text'], labels, test_size = 0.2, random_state = 5100)"
      ],
      "execution_count": 27,
      "outputs": []
    },
    {
      "cell_type": "markdown",
      "source": [
        "`max_df`: When building the vocabulary ignore terms that have a document frequency strictly higher than the given threshold (corpus-specific stop words). If float in range `[0.0, 1.0]`, the parameter represents a proportion of documents, integer absolute counts. This parameter is ignored if vocabulary is not None."
      ],
      "metadata": {
        "id": "DXqNgpBCPq34"
      }
    },
    {
      "cell_type": "code",
      "metadata": {
        "id": "Lt-WZ3repkPR"
      },
      "source": [
        "# Initialize a TfidVectorizer\n",
        "tfidf_vectorizer = TfidfVectorizer(stop_words = 'english', max_df = 0.7)\n",
        "\n",
        "tfidf_train = tfidf_vectorizer.fit_transform(x_train)\n",
        "tfidf_test = tfidf_vectorizer.transform(x_test)"
      ],
      "execution_count": 28,
      "outputs": []
    },
    {
      "cell_type": "markdown",
      "source": [
        "## Split, Vectorize, and Train"
      ],
      "metadata": {
        "id": "T37jpYvnu-rm"
      }
    },
    {
      "cell_type": "code",
      "source": [
        "pca = PCA(n_components=2).fit(tfidf_train.toarray())\n",
        "data2D = pca.transform(tfidf_train.toarray())"
      ],
      "metadata": {
        "id": "FT8mHX8ypzyT"
      },
      "execution_count": 29,
      "outputs": []
    },
    {
      "cell_type": "code",
      "source": [
        "# plot the features\n",
        "ax = sns.scatterplot(data2D[:,0], data2D[:,1], hue=y_train,size=y_train,palette=\"husl\")"
      ],
      "metadata": {
        "colab": {
          "base_uri": "https://localhost:8080/",
          "height": 320
        },
        "id": "ZuaPi7IEtT5o",
        "outputId": "fb1a36a3-22b9-48a8-e01f-1e2972352338"
      },
      "execution_count": 30,
      "outputs": [
        {
          "output_type": "stream",
          "name": "stderr",
          "text": [
            "/usr/local/lib/python3.7/dist-packages/seaborn/_decorators.py:43: FutureWarning: Pass the following variables as keyword args: x, y. From version 0.12, the only valid positional argument will be `data`, and passing other arguments without an explicit keyword will result in an error or misinterpretation.\n",
            "  FutureWarning\n"
          ]
        },
        {
          "output_type": "display_data",
          "data": {
            "text/plain": [
              "<Figure size 432x288 with 1 Axes>"
            ],
            "image/png": "[encoded data removed]"
          },
          "metadata": {
            "needs_background": "light"
          }
        }
      ]
    },
    {
      "cell_type": "markdown",
      "source": [
        "Passive Aggressive Algorithm is an **Online-Learning** Algorithm\n",
        "How Passive-Aggressive Algorithms Work:\n",
        "Passive-Aggressive algorithms are called so because :\n",
        "\n",
        "**Passive**: If the prediction is correct, keep the model and do not make any changes. i.e., the data in the example is not enough to cause any changes in the model. \n",
        "\n",
        "**Aggressive**: If the prediction is incorrect, make changes to the model. i.e., some change to the model may correct it."
      ],
      "metadata": {
        "id": "yvaG_Ud8W-hM"
      }
    },
    {
      "cell_type": "code",
      "metadata": {
        "colab": {
          "base_uri": "https://localhost:8080/"
        },
        "outputId": "1f47a969-85b1-4e8c-f6cb-a77af01ac60e",
        "id": "DK8IgC4aP003"
      },
      "source": [
        "# Initialize a PassiveAggressiveClassifier\n",
        "pac = PassiveAggressiveClassifier(max_iter = 50)\n",
        "pac.fit(tfidf_train, y_train)\n",
        "\n",
        "# Predict on the test set and calculate accuracy\n",
        "y_pred = pac.predict(tfidf_test)\n",
        "score = accuracy_score(y_test, y_pred)\n",
        "report = classification_report(y_test, y_pred, digits = 3)\n",
        "\n",
        "print(f'Accuracy: {round(score*100,2)}%')\n",
        "print(report)\n"
      ],
      "execution_count": 31,
      "outputs": [
        {
          "output_type": "stream",
          "name": "stdout",
          "text": [
            "Accuracy: 93.84%\n",
            "              precision    recall  f1-score   support\n",
            "\n",
            "        FAKE      0.922     0.952     0.937       609\n",
            "        REAL      0.955     0.926     0.940       658\n",
            "\n",
            "    accuracy                          0.938      1267\n",
            "   macro avg      0.938     0.939     0.938      1267\n",
            "weighted avg      0.939     0.938     0.938      1267\n",
            "\n"
          ]
        }
      ]
    },
    {
      "cell_type": "code",
      "source": [
        "random.choice(x_test)"
      ],
      "metadata": {
        "colab": {
          "base_uri": "https://localhost:8080/",
          "height": 503
        },
        "id": "kJgDlY46fvoi",
        "outputId": "b4387af9-b95a-4027-ed2e-ed5b7eabeead"
      },
      "execution_count": 32,
      "outputs": [
        {
          "output_type": "error",
          "ename": "KeyError",
          "evalue": "ignored",
          "traceback": [
            "\u001b[0;31m---------------------------------------------------------------------------\u001b[0m",
            "\u001b[0;31mKeyError\u001b[0m                                  Traceback (most recent call last)",
            "\u001b[0;32m/usr/local/lib/python3.7/dist-packages/pandas/core/indexes/base.py\u001b[0m in \u001b[0;36mget_loc\u001b[0;34m(self, key, method, tolerance)\u001b[0m\n\u001b[1;32m   3360\u001b[0m             \u001b[0;32mtry\u001b[0m\u001b[0;34m:\u001b[0m\u001b[0;34m\u001b[0m\u001b[0;34m\u001b[0m\u001b[0m\n\u001b[0;32m-> 3361\u001b[0;31m                 \u001b[0;32mreturn\u001b[0m \u001b[0mself\u001b[0m\u001b[0;34m.\u001b[0m\u001b[0m_engine\u001b[0m\u001b[0;34m.\u001b[0m\u001b[0mget_loc\u001b[0m\u001b[0;34m(\u001b[0m\u001b[0mcasted_key\u001b[0m\u001b[0;34m)\u001b[0m\u001b[0;34m\u001b[0m\u001b[0;34m\u001b[0m\u001b[0m\n\u001b[0m\u001b[1;32m   3362\u001b[0m             \u001b[0;32mexcept\u001b[0m \u001b[0mKeyError\u001b[0m \u001b[0;32mas\u001b[0m \u001b[0merr\u001b[0m\u001b[0;34m:\u001b[0m\u001b[0;34m\u001b[0m\u001b[0;34m\u001b[0m\u001b[0m\n",
            "\u001b[0;32m/usr/local/lib/python3.7/dist-packages/pandas/_libs/index.pyx\u001b[0m in \u001b[0;36mpandas._libs.index.IndexEngine.get_loc\u001b[0;34m()\u001b[0m\n",
            "\u001b[0;32m/usr/local/lib/python3.7/dist-packages/pandas/_libs/index.pyx\u001b[0m in \u001b[0;36mpandas._libs.index.IndexEngine.get_loc\u001b[0;34m()\u001b[0m\n",
            "\u001b[0;32mpandas/_libs/hashtable_class_helper.pxi\u001b[0m in \u001b[0;36mpandas._libs.hashtable.Int64HashTable.get_item\u001b[0;34m()\u001b[0m\n",
            "\u001b[0;32mpandas/_libs/hashtable_class_helper.pxi\u001b[0m in \u001b[0;36mpandas._libs.hashtable.Int64HashTable.get_item\u001b[0;34m()\u001b[0m\n",
            "\u001b[0;31mKeyError\u001b[0m: 540",
            "\nThe above exception was the direct cause of the following exception:\n",
            "\u001b[0;31mKeyError\u001b[0m                                  Traceback (most recent call last)",
            "\u001b[0;32m<ipython-input-32-68f8c358bb94>\u001b[0m in \u001b[0;36m<module>\u001b[0;34m\u001b[0m\n\u001b[0;32m----> 1\u001b[0;31m \u001b[0mrandom\u001b[0m\u001b[0;34m.\u001b[0m\u001b[0mchoice\u001b[0m\u001b[0;34m(\u001b[0m\u001b[0mx_test\u001b[0m\u001b[0;34m)\u001b[0m\u001b[0;34m\u001b[0m\u001b[0;34m\u001b[0m\u001b[0m\n\u001b[0m",
            "\u001b[0;32m/usr/lib/python3.7/random.py\u001b[0m in \u001b[0;36mchoice\u001b[0;34m(self, seq)\u001b[0m\n\u001b[1;32m    260\u001b[0m         \u001b[0;32mexcept\u001b[0m \u001b[0mValueError\u001b[0m\u001b[0;34m:\u001b[0m\u001b[0;34m\u001b[0m\u001b[0;34m\u001b[0m\u001b[0m\n\u001b[1;32m    261\u001b[0m             \u001b[0;32mraise\u001b[0m \u001b[0mIndexError\u001b[0m\u001b[0;34m(\u001b[0m\u001b[0;34m'Cannot choose from an empty sequence'\u001b[0m\u001b[0;34m)\u001b[0m \u001b[0;32mfrom\u001b[0m \u001b[0;32mNone\u001b[0m\u001b[0;34m\u001b[0m\u001b[0;34m\u001b[0m\u001b[0m\n\u001b[0;32m--> 262\u001b[0;31m         \u001b[0;32mreturn\u001b[0m \u001b[0mseq\u001b[0m\u001b[0;34m[\u001b[0m\u001b[0mi\u001b[0m\u001b[0;34m]\u001b[0m\u001b[0;34m\u001b[0m\u001b[0;34m\u001b[0m\u001b[0m\n\u001b[0m\u001b[1;32m    263\u001b[0m \u001b[0;34m\u001b[0m\u001b[0m\n\u001b[1;32m    264\u001b[0m     \u001b[0;32mdef\u001b[0m \u001b[0mshuffle\u001b[0m\u001b[0;34m(\u001b[0m\u001b[0mself\u001b[0m\u001b[0;34m,\u001b[0m \u001b[0mx\u001b[0m\u001b[0;34m,\u001b[0m \u001b[0mrandom\u001b[0m\u001b[0;34m=\u001b[0m\u001b[0;32mNone\u001b[0m\u001b[0;34m)\u001b[0m\u001b[0;34m:\u001b[0m\u001b[0;34m\u001b[0m\u001b[0;34m\u001b[0m\u001b[0m\n",
            "\u001b[0;32m/usr/local/lib/python3.7/dist-packages/pandas/core/series.py\u001b[0m in \u001b[0;36m__getitem__\u001b[0;34m(self, key)\u001b[0m\n\u001b[1;32m    940\u001b[0m \u001b[0;34m\u001b[0m\u001b[0m\n\u001b[1;32m    941\u001b[0m         \u001b[0;32melif\u001b[0m \u001b[0mkey_is_scalar\u001b[0m\u001b[0;34m:\u001b[0m\u001b[0;34m\u001b[0m\u001b[0;34m\u001b[0m\u001b[0m\n\u001b[0;32m--> 942\u001b[0;31m             \u001b[0;32mreturn\u001b[0m \u001b[0mself\u001b[0m\u001b[0;34m.\u001b[0m\u001b[0m_get_value\u001b[0m\u001b[0;34m(\u001b[0m\u001b[0mkey\u001b[0m\u001b[0;34m)\u001b[0m\u001b[0;34m\u001b[0m\u001b[0;34m\u001b[0m\u001b[0m\n\u001b[0m\u001b[1;32m    943\u001b[0m \u001b[0;34m\u001b[0m\u001b[0m\n\u001b[1;32m    944\u001b[0m         \u001b[0;32mif\u001b[0m \u001b[0mis_hashable\u001b[0m\u001b[0;34m(\u001b[0m\u001b[0mkey\u001b[0m\u001b[0;34m)\u001b[0m\u001b[0;34m:\u001b[0m\u001b[0;34m\u001b[0m\u001b[0;34m\u001b[0m\u001b[0m\n",
            "\u001b[0;32m/usr/local/lib/python3.7/dist-packages/pandas/core/series.py\u001b[0m in \u001b[0;36m_get_value\u001b[0;34m(self, label, takeable)\u001b[0m\n\u001b[1;32m   1049\u001b[0m \u001b[0;34m\u001b[0m\u001b[0m\n\u001b[1;32m   1050\u001b[0m         \u001b[0;31m# Similar to Index.get_value, but we do not fall back to positional\u001b[0m\u001b[0;34m\u001b[0m\u001b[0;34m\u001b[0m\u001b[0;34m\u001b[0m\u001b[0m\n\u001b[0;32m-> 1051\u001b[0;31m         \u001b[0mloc\u001b[0m \u001b[0;34m=\u001b[0m \u001b[0mself\u001b[0m\u001b[0;34m.\u001b[0m\u001b[0mindex\u001b[0m\u001b[0;34m.\u001b[0m\u001b[0mget_loc\u001b[0m\u001b[0;34m(\u001b[0m\u001b[0mlabel\u001b[0m\u001b[0;34m)\u001b[0m\u001b[0;34m\u001b[0m\u001b[0;34m\u001b[0m\u001b[0m\n\u001b[0m\u001b[1;32m   1052\u001b[0m         \u001b[0;32mreturn\u001b[0m \u001b[0mself\u001b[0m\u001b[0;34m.\u001b[0m\u001b[0mindex\u001b[0m\u001b[0;34m.\u001b[0m\u001b[0m_get_values_for_loc\u001b[0m\u001b[0;34m(\u001b[0m\u001b[0mself\u001b[0m\u001b[0;34m,\u001b[0m \u001b[0mloc\u001b[0m\u001b[0;34m,\u001b[0m \u001b[0mlabel\u001b[0m\u001b[0;34m)\u001b[0m\u001b[0;34m\u001b[0m\u001b[0;34m\u001b[0m\u001b[0m\n\u001b[1;32m   1053\u001b[0m \u001b[0;34m\u001b[0m\u001b[0m\n",
            "\u001b[0;32m/usr/local/lib/python3.7/dist-packages/pandas/core/indexes/base.py\u001b[0m in \u001b[0;36mget_loc\u001b[0;34m(self, key, method, tolerance)\u001b[0m\n\u001b[1;32m   3361\u001b[0m                 \u001b[0;32mreturn\u001b[0m \u001b[0mself\u001b[0m\u001b[0;34m.\u001b[0m\u001b[0m_engine\u001b[0m\u001b[0;34m.\u001b[0m\u001b[0mget_loc\u001b[0m\u001b[0;34m(\u001b[0m\u001b[0mcasted_key\u001b[0m\u001b[0;34m)\u001b[0m\u001b[0;34m\u001b[0m\u001b[0;34m\u001b[0m\u001b[0m\n\u001b[1;32m   3362\u001b[0m             \u001b[0;32mexcept\u001b[0m \u001b[0mKeyError\u001b[0m \u001b[0;32mas\u001b[0m \u001b[0merr\u001b[0m\u001b[0;34m:\u001b[0m\u001b[0;34m\u001b[0m\u001b[0;34m\u001b[0m\u001b[0m\n\u001b[0;32m-> 3363\u001b[0;31m                 \u001b[0;32mraise\u001b[0m \u001b[0mKeyError\u001b[0m\u001b[0;34m(\u001b[0m\u001b[0mkey\u001b[0m\u001b[0;34m)\u001b[0m \u001b[0;32mfrom\u001b[0m \u001b[0merr\u001b[0m\u001b[0;34m\u001b[0m\u001b[0;34m\u001b[0m\u001b[0m\n\u001b[0m\u001b[1;32m   3364\u001b[0m \u001b[0;34m\u001b[0m\u001b[0m\n\u001b[1;32m   3365\u001b[0m         \u001b[0;32mif\u001b[0m \u001b[0mis_scalar\u001b[0m\u001b[0;34m(\u001b[0m\u001b[0mkey\u001b[0m\u001b[0;34m)\u001b[0m \u001b[0;32mand\u001b[0m \u001b[0misna\u001b[0m\u001b[0;34m(\u001b[0m\u001b[0mkey\u001b[0m\u001b[0;34m)\u001b[0m \u001b[0;32mand\u001b[0m \u001b[0;32mnot\u001b[0m \u001b[0mself\u001b[0m\u001b[0;34m.\u001b[0m\u001b[0mhasnans\u001b[0m\u001b[0;34m:\u001b[0m\u001b[0;34m\u001b[0m\u001b[0;34m\u001b[0m\u001b[0m\n",
            "\u001b[0;31mKeyError\u001b[0m: 540"
          ]
        }
      ]
    },
    {
      "cell_type": "code",
      "metadata": {
        "colab": {
          "base_uri": "https://localhost:8080/"
        },
        "outputId": "7ac80aac-f146-4b3d-fab3-5afdb7f04e77",
        "id": "7zga6aicP003"
      },
      "source": [
        "# Build confusion matrix\n",
        "confusion_matrix(y_test, y_pred, labels = ['FAKE', 'REAL'])"
      ],
      "execution_count": 33,
      "outputs": [
        {
          "output_type": "execute_result",
          "data": {
            "text/plain": [
              "array([[580,  29],\n",
              "       [ 49, 609]])"
            ]
          },
          "metadata": {},
          "execution_count": 33
        }
      ]
    },
    {
      "cell_type": "code",
      "source": [
        "f1_score(y_test, y_pred, average=\"weighted\"), score"
      ],
      "metadata": {
        "colab": {
          "base_uri": "https://localhost:8080/"
        },
        "id": "1k4h2nIESBWZ",
        "outputId": "503775bd-3766-4527-892c-07b022390e5c"
      },
      "execution_count": 34,
      "outputs": [
        {
          "output_type": "execute_result",
          "data": {
            "text/plain": [
              "(0.9384595079821743, 0.9384372533543804)"
            ]
          },
          "metadata": {},
          "execution_count": 34
        }
      ]
    },
    {
      "cell_type": "markdown",
      "source": [
        "## Assignment: \n",
        "* Visualize the Data with another vectorizer in 2D using PCA and Seaborn (`sns`)\n",
        "* Use 2 other classifiers and compare their accuracy to the `PassiveAggressiveClassifier`"
      ],
      "metadata": {
        "id": "72T6wl7hO85s"
      }
    },
    {
      "cell_type": "markdown",
      "source": [
        "# Count Vectorizer"
      ],
      "metadata": {
        "id": "SlN-Qlzf05_O"
      }
    },
    {
      "cell_type": "code",
      "source": [
        "# Count Vectors as features\n",
        "# create a count vectorizer object \n",
        "from sklearn.feature_extraction.text import TfidfVectorizer, CountVectorizer,HashingVectorizer\n",
        "count_vect = CountVectorizer(analyzer='word', token_pattern=r'\\w{1,}')\n",
        "count_vect.fit(x_train)\n",
        "\n",
        "# transform the training and validation data using count vectorizer object\n",
        "count_train =  count_vect.transform(x_train)\n",
        "count_test =  count_vect.transform(x_test)"
      ],
      "metadata": {
        "id": "We0Kuue2PFpr"
      },
      "execution_count": 35,
      "outputs": []
    },
    {
      "cell_type": "code",
      "source": [
        "# Initialize a TfidVectorizer\n",
        "#tfidf_vectorizer = TfidfVectorizer(stop_words = 'english', max_df = 0.7)\n",
        "\n",
        "#tfidf_train = tfidf_vectorizer.fit_transform(x_train)\n",
        "#tfidf_test = tfidf_vectorizer.transform(x_test)"
      ],
      "metadata": {
        "id": "me1SSpqR1WQ2"
      },
      "execution_count": 36,
      "outputs": []
    },
    {
      "cell_type": "markdown",
      "source": [
        "# PCA & SNS plot"
      ],
      "metadata": {
        "id": "8pJWB6br3pXS"
      }
    },
    {
      "cell_type": "code",
      "source": [
        "pca = PCA(n_components=2).fit(count_train.toarray())\n",
        "data2D = pca.transform(count_train.toarray())"
      ],
      "metadata": {
        "id": "yxA1psD13f31"
      },
      "execution_count": 37,
      "outputs": []
    },
    {
      "cell_type": "code",
      "source": [
        "# plot the features\n",
        "ax = sns.scatterplot(data2D[:,0], data2D[:,1], hue=y_train,size=y_train,palette=\"husl\")"
      ],
      "metadata": {
        "id": "wH0egLvs8jfL",
        "outputId": "aa3dcf5f-3e22-4668-c295-a5ac511043fd",
        "colab": {
          "base_uri": "https://localhost:8080/",
          "height": 320
        }
      },
      "execution_count": 38,
      "outputs": [
        {
          "output_type": "stream",
          "name": "stderr",
          "text": [
            "/usr/local/lib/python3.7/dist-packages/seaborn/_decorators.py:43: FutureWarning: Pass the following variables as keyword args: x, y. From version 0.12, the only valid positional argument will be `data`, and passing other arguments without an explicit keyword will result in an error or misinterpretation.\n",
            "  FutureWarning\n"
          ]
        },
        {
          "output_type": "display_data",
          "data": {
            "text/plain": [
              "<Figure size 432x288 with 1 Axes>"
            ],
            "image/png": "[encoded data removed]"
          },
          "metadata": {
            "needs_background": "light"
          }
        }
      ]
    },
    {
      "cell_type": "markdown",
      "source": [
        "# Naive-Bayes Classification"
      ],
      "metadata": {
        "id": "eX_nrCVKb0xj"
      }
    },
    {
      "cell_type": "code",
      "source": [
        "# Initialize a PassiveAggressiveClassifier\n",
        "from sklearn.naive_bayes import GaussianNB\n",
        "from sklearn.naive_bayes import MultinomialNB\n",
        "\n",
        "nbm = MultinomialNB()\n",
        "nbm.fit(count_train, y_train)\n",
        "\n",
        "# Predict on the test set and calculate accuracy\n",
        "y_pred = nbm.predict(count_test)\n",
        "score = accuracy_score(y_test, y_pred)\n",
        "report = classification_report(y_test, y_pred, digits = 3)\n",
        "\n",
        "print(f'Accuracy: {round(score*100,2)}%')\n",
        "print(report)"
      ],
      "metadata": {
        "id": "zNE0XM9A-kqg",
        "outputId": "dac47f0b-e319-4659-de59-6494423a0566",
        "colab": {
          "base_uri": "https://localhost:8080/"
        }
      },
      "execution_count": 39,
      "outputs": [
        {
          "output_type": "stream",
          "name": "stdout",
          "text": [
            "Accuracy: 89.27%\n",
            "              precision    recall  f1-score   support\n",
            "\n",
            "        FAKE      0.910     0.862     0.885       609\n",
            "        REAL      0.878     0.921     0.899       658\n",
            "\n",
            "    accuracy                          0.893      1267\n",
            "   macro avg      0.894     0.892     0.892      1267\n",
            "weighted avg      0.893     0.893     0.892      1267\n",
            "\n"
          ]
        }
      ]
    },
    {
      "cell_type": "markdown",
      "source": [
        "GaussianNB  is not working because of sparse data. MultinomialNB is used instead"
      ],
      "metadata": {
        "id": "BLplyf3ZBNEx"
      }
    },
    {
      "cell_type": "code",
      "source": [
        "# Build confusion matrix\n",
        "confusion_matrix(y_test, y_pred, labels = ['FAKE', 'REAL'])"
      ],
      "metadata": {
        "id": "xf0Qi4H3A3D9",
        "outputId": "26f58126-dc03-46d8-ab2d-238016136333",
        "colab": {
          "base_uri": "https://localhost:8080/"
        }
      },
      "execution_count": 40,
      "outputs": [
        {
          "output_type": "execute_result",
          "data": {
            "text/plain": [
              "array([[525,  84],\n",
              "       [ 52, 606]])"
            ]
          },
          "metadata": {},
          "execution_count": 40
        }
      ]
    },
    {
      "cell_type": "code",
      "source": [
        "f1_score(y_test, y_pred, average=\"weighted\"), score"
      ],
      "metadata": {
        "id": "Jn9em8EyBA_b",
        "outputId": "ef210c39-dfdc-4a0b-b112-4d709b7be999",
        "colab": {
          "base_uri": "https://localhost:8080/"
        }
      },
      "execution_count": 41,
      "outputs": [
        {
          "output_type": "execute_result",
          "data": {
            "text/plain": [
              "(0.8924857969267888, 0.8926598263614838)"
            ]
          },
          "metadata": {},
          "execution_count": 41
        }
      ]
    },
    {
      "cell_type": "markdown",
      "source": [
        "# SVC Classifier"
      ],
      "metadata": {
        "id": "l4x8R1awBzK2"
      }
    },
    {
      "cell_type": "code",
      "source": [
        "from sklearn.svm import SVC\n",
        "\n",
        "svc = SVC(kernel='rbf', C = 1.0)\n",
        "svc.fit(count_train, y_train)\n",
        "\n",
        "# Predict on the test set and calculate accuracy\n",
        "y_pred = svc.predict(count_test)\n",
        "score = accuracy_score(y_test, y_pred)\n",
        "report = classification_report(y_test, y_pred, digits = 3)\n",
        "\n",
        "print(f'Accuracy: {round(score*100,2)}%')\n",
        "print(report)\n"
      ],
      "metadata": {
        "id": "ygYF4j7SB17b",
        "outputId": "396218fc-99e8-4561-a546-e3cb0c2036b8",
        "colab": {
          "base_uri": "https://localhost:8080/"
        }
      },
      "execution_count": 42,
      "outputs": [
        {
          "output_type": "stream",
          "name": "stdout",
          "text": [
            "Accuracy: 84.93%\n",
            "              precision    recall  f1-score   support\n",
            "\n",
            "        FAKE      0.786     0.944     0.858       609\n",
            "        REAL      0.936     0.761     0.840       658\n",
            "\n",
            "    accuracy                          0.849      1267\n",
            "   macro avg      0.861     0.853     0.849      1267\n",
            "weighted avg      0.864     0.849     0.848      1267\n",
            "\n"
          ]
        }
      ]
    },
    {
      "cell_type": "code",
      "source": [
        "# Build confusion matrix\n",
        "confusion_matrix(y_test, y_pred, labels = ['FAKE', 'REAL'])"
      ],
      "metadata": {
        "id": "JArOwC-5C1Qn",
        "outputId": "b01d5811-b7a5-44a9-9810-ea652d8ef535",
        "colab": {
          "base_uri": "https://localhost:8080/"
        }
      },
      "execution_count": 43,
      "outputs": [
        {
          "output_type": "execute_result",
          "data": {
            "text/plain": [
              "array([[575,  34],\n",
              "       [157, 501]])"
            ]
          },
          "metadata": {},
          "execution_count": 43
        }
      ]
    },
    {
      "cell_type": "code",
      "source": [
        "f1_score(y_test, y_pred, average=\"weighted\"), score"
      ],
      "metadata": {
        "id": "LKcTdLG-C3A5",
        "outputId": "85770433-6c12-4ceb-b91a-76817e8496fa",
        "colab": {
          "base_uri": "https://localhost:8080/"
        }
      },
      "execution_count": 44,
      "outputs": [
        {
          "output_type": "execute_result",
          "data": {
            "text/plain": [
              "(0.8483925191353425, 0.8492501973164956)"
            ]
          },
          "metadata": {},
          "execution_count": 44
        }
      ]
    },
    {
      "cell_type": "markdown",
      "source": [
        "# Hashing Vectorizer"
      ],
      "metadata": {
        "id": "7Jg1l1CADEh8"
      }
    },
    {
      "cell_type": "code",
      "source": [
        "# getting train features\n",
        "hash_vectorizer = HashingVectorizer(n_features=5000)\n",
        "hash_vectorizer.fit(x_train)\n",
        "xtrain_hash_vectorizer =  hash_vectorizer.transform(x_train) \n",
        "xtest_hash_vectorizer =  hash_vectorizer.transform(x_test)"
      ],
      "metadata": {
        "id": "nH733CQbDIIE"
      },
      "execution_count": 45,
      "outputs": []
    },
    {
      "cell_type": "code",
      "source": [
        "hash_vectorizer.transform(x_train).toarray()"
      ],
      "metadata": {
        "id": "9x07TsMJDhNX",
        "outputId": "cb2fc381-b8f0-42d1-c636-51d997d28046",
        "colab": {
          "base_uri": "https://localhost:8080/"
        }
      },
      "execution_count": 46,
      "outputs": [
        {
          "output_type": "execute_result",
          "data": {
            "text/plain": [
              "array([[0., 0., 0., ..., 0., 0., 0.],\n",
              "       [0., 0., 0., ..., 0., 0., 0.],\n",
              "       [0., 0., 0., ..., 0., 0., 0.],\n",
              "       ...,\n",
              "       [0., 0., 0., ..., 0., 0., 0.],\n",
              "       [0., 0., 0., ..., 0., 0., 0.],\n",
              "       [0., 0., 0., ..., 0., 0., 0.]])"
            ]
          },
          "metadata": {},
          "execution_count": 46
        }
      ]
    },
    {
      "cell_type": "markdown",
      "source": [
        "# PCA & SNS plot"
      ],
      "metadata": {
        "id": "0cfc6CvvD_mf"
      }
    },
    {
      "cell_type": "code",
      "source": [
        "pca = PCA(n_components=2).fit(xtrain_hash_vectorizer.toarray())\n",
        "data2D = pca.transform(xtrain_hash_vectorizer.toarray())"
      ],
      "metadata": {
        "id": "ljUbPtoeDzpS"
      },
      "execution_count": 47,
      "outputs": []
    },
    {
      "cell_type": "code",
      "source": [
        "# plot the features\n",
        "ax = sns.scatterplot(data2D[:,0], data2D[:,1], hue=y_train,size=y_train,palette=\"husl\")"
      ],
      "metadata": {
        "id": "t54sJqJRERaA",
        "outputId": "1111b724-8253-4ea4-f1e7-58c0095b446c",
        "colab": {
          "base_uri": "https://localhost:8080/",
          "height": 320
        }
      },
      "execution_count": 48,
      "outputs": [
        {
          "output_type": "stream",
          "name": "stderr",
          "text": [
            "/usr/local/lib/python3.7/dist-packages/seaborn/_decorators.py:43: FutureWarning: Pass the following variables as keyword args: x, y. From version 0.12, the only valid positional argument will be `data`, and passing other arguments without an explicit keyword will result in an error or misinterpretation.\n",
            "  FutureWarning\n"
          ]
        },
        {
          "output_type": "display_data",
          "data": {
            "text/plain": [
              "<Figure size 432x288 with 1 Axes>"
            ],
            "image/png": "[encoded data removed]"
          },
          "metadata": {
            "needs_background": "light"
          }
        }
      ]
    },
    {
      "cell_type": "markdown",
      "source": [
        "# Naive Bayes Multinomial"
      ],
      "metadata": {
        "id": "cEfiSLrpEY1C"
      }
    },
    {
      "cell_type": "code",
      "source": [
        "from sklearn.preprocessing import MinMaxScaler, MaxAbsScaler, StandardScaler\n",
        "from sklearn.pipeline import Pipeline\n",
        "p = Pipeline([('Normalizing',StandardScaler(with_mean=False)),('MultinomialNB',MultinomialNB())])\n",
        "p.fit(xtrain_hash_vectorizer,y_train) "
      ],
      "metadata": {
        "id": "HcFk2M8hFicT",
        "outputId": "3ed9bda1-05ad-4376-ab0d-d73ad5c1e719",
        "colab": {
          "base_uri": "https://localhost:8080/",
          "height": 346
        }
      },
      "execution_count": 53,
      "outputs": [
        {
          "output_type": "error",
          "ename": "ValueError",
          "evalue": "ignored",
          "traceback": [
            "\u001b[0;31m---------------------------------------------------------------------------\u001b[0m",
            "\u001b[0;31mValueError\u001b[0m                                Traceback (most recent call last)",
            "\u001b[0;32m<ipython-input-53-6c66e1c05e1f>\u001b[0m in \u001b[0;36m<module>\u001b[0;34m\u001b[0m\n\u001b[1;32m      2\u001b[0m \u001b[0;32mfrom\u001b[0m \u001b[0msklearn\u001b[0m\u001b[0;34m.\u001b[0m\u001b[0mpipeline\u001b[0m \u001b[0;32mimport\u001b[0m \u001b[0mPipeline\u001b[0m\u001b[0;34m\u001b[0m\u001b[0;34m\u001b[0m\u001b[0m\n\u001b[1;32m      3\u001b[0m \u001b[0mp\u001b[0m \u001b[0;34m=\u001b[0m \u001b[0mPipeline\u001b[0m\u001b[0;34m(\u001b[0m\u001b[0;34m[\u001b[0m\u001b[0;34m(\u001b[0m\u001b[0;34m'Normalizing'\u001b[0m\u001b[0;34m,\u001b[0m\u001b[0mStandardScaler\u001b[0m\u001b[0;34m(\u001b[0m\u001b[0mwith_mean\u001b[0m\u001b[0;34m=\u001b[0m\u001b[0;32mFalse\u001b[0m\u001b[0;34m)\u001b[0m\u001b[0;34m)\u001b[0m\u001b[0;34m,\u001b[0m\u001b[0;34m(\u001b[0m\u001b[0;34m'MultinomialNB'\u001b[0m\u001b[0;34m,\u001b[0m\u001b[0mMultinomialNB\u001b[0m\u001b[0;34m(\u001b[0m\u001b[0;34m)\u001b[0m\u001b[0;34m)\u001b[0m\u001b[0;34m]\u001b[0m\u001b[0;34m)\u001b[0m\u001b[0;34m\u001b[0m\u001b[0;34m\u001b[0m\u001b[0m\n\u001b[0;32m----> 4\u001b[0;31m \u001b[0mp\u001b[0m\u001b[0;34m.\u001b[0m\u001b[0mfit\u001b[0m\u001b[0;34m(\u001b[0m\u001b[0mxtrain_hash_vectorizer\u001b[0m\u001b[0;34m,\u001b[0m\u001b[0my_train\u001b[0m\u001b[0;34m)\u001b[0m\u001b[0;34m\u001b[0m\u001b[0;34m\u001b[0m\u001b[0m\n\u001b[0m",
            "\u001b[0;32m/usr/local/lib/python3.7/dist-packages/sklearn/pipeline.py\u001b[0m in \u001b[0;36mfit\u001b[0;34m(self, X, y, **fit_params)\u001b[0m\n\u001b[1;32m    392\u001b[0m             \u001b[0;32mif\u001b[0m \u001b[0mself\u001b[0m\u001b[0;34m.\u001b[0m\u001b[0m_final_estimator\u001b[0m \u001b[0;34m!=\u001b[0m \u001b[0;34m\"passthrough\"\u001b[0m\u001b[0;34m:\u001b[0m\u001b[0;34m\u001b[0m\u001b[0;34m\u001b[0m\u001b[0m\n\u001b[1;32m    393\u001b[0m                 \u001b[0mfit_params_last_step\u001b[0m \u001b[0;34m=\u001b[0m \u001b[0mfit_params_steps\u001b[0m\u001b[0;34m[\u001b[0m\u001b[0mself\u001b[0m\u001b[0;34m.\u001b[0m\u001b[0msteps\u001b[0m\u001b[0;34m[\u001b[0m\u001b[0;34m-\u001b[0m\u001b[0;36m1\u001b[0m\u001b[0;34m]\u001b[0m\u001b[0;34m[\u001b[0m\u001b[0;36m0\u001b[0m\u001b[0;34m]\u001b[0m\u001b[0;34m]\u001b[0m\u001b[0;34m\u001b[0m\u001b[0;34m\u001b[0m\u001b[0m\n\u001b[0;32m--> 394\u001b[0;31m                 \u001b[0mself\u001b[0m\u001b[0;34m.\u001b[0m\u001b[0m_final_estimator\u001b[0m\u001b[0;34m.\u001b[0m\u001b[0mfit\u001b[0m\u001b[0;34m(\u001b[0m\u001b[0mXt\u001b[0m\u001b[0;34m,\u001b[0m \u001b[0my\u001b[0m\u001b[0;34m,\u001b[0m \u001b[0;34m**\u001b[0m\u001b[0mfit_params_last_step\u001b[0m\u001b[0;34m)\u001b[0m\u001b[0;34m\u001b[0m\u001b[0;34m\u001b[0m\u001b[0m\n\u001b[0m\u001b[1;32m    395\u001b[0m \u001b[0;34m\u001b[0m\u001b[0m\n\u001b[1;32m    396\u001b[0m         \u001b[0;32mreturn\u001b[0m \u001b[0mself\u001b[0m\u001b[0;34m\u001b[0m\u001b[0;34m\u001b[0m\u001b[0m\n",
            "\u001b[0;32m/usr/local/lib/python3.7/dist-packages/sklearn/naive_bayes.py\u001b[0m in \u001b[0;36mfit\u001b[0;34m(self, X, y, sample_weight)\u001b[0m\n\u001b[1;32m    688\u001b[0m         \u001b[0mn_classes\u001b[0m \u001b[0;34m=\u001b[0m \u001b[0mY\u001b[0m\u001b[0;34m.\u001b[0m\u001b[0mshape\u001b[0m\u001b[0;34m[\u001b[0m\u001b[0;36m1\u001b[0m\u001b[0;34m]\u001b[0m\u001b[0;34m\u001b[0m\u001b[0;34m\u001b[0m\u001b[0m\n\u001b[1;32m    689\u001b[0m         \u001b[0mself\u001b[0m\u001b[0;34m.\u001b[0m\u001b[0m_init_counters\u001b[0m\u001b[0;34m(\u001b[0m\u001b[0mn_classes\u001b[0m\u001b[0;34m,\u001b[0m \u001b[0mn_features\u001b[0m\u001b[0;34m)\u001b[0m\u001b[0;34m\u001b[0m\u001b[0;34m\u001b[0m\u001b[0m\n\u001b[0;32m--> 690\u001b[0;31m         \u001b[0mself\u001b[0m\u001b[0;34m.\u001b[0m\u001b[0m_count\u001b[0m\u001b[0;34m(\u001b[0m\u001b[0mX\u001b[0m\u001b[0;34m,\u001b[0m \u001b[0mY\u001b[0m\u001b[0;34m)\u001b[0m\u001b[0;34m\u001b[0m\u001b[0;34m\u001b[0m\u001b[0m\n\u001b[0m\u001b[1;32m    691\u001b[0m         \u001b[0malpha\u001b[0m \u001b[0;34m=\u001b[0m \u001b[0mself\u001b[0m\u001b[0;34m.\u001b[0m\u001b[0m_check_alpha\u001b[0m\u001b[0;34m(\u001b[0m\u001b[0;34m)\u001b[0m\u001b[0;34m\u001b[0m\u001b[0;34m\u001b[0m\u001b[0m\n\u001b[1;32m    692\u001b[0m         \u001b[0mself\u001b[0m\u001b[0;34m.\u001b[0m\u001b[0m_update_feature_log_prob\u001b[0m\u001b[0;34m(\u001b[0m\u001b[0malpha\u001b[0m\u001b[0;34m)\u001b[0m\u001b[0;34m\u001b[0m\u001b[0;34m\u001b[0m\u001b[0m\n",
            "\u001b[0;32m/usr/local/lib/python3.7/dist-packages/sklearn/naive_bayes.py\u001b[0m in \u001b[0;36m_count\u001b[0;34m(self, X, Y)\u001b[0m\n\u001b[1;32m    861\u001b[0m     \u001b[0;32mdef\u001b[0m \u001b[0m_count\u001b[0m\u001b[0;34m(\u001b[0m\u001b[0mself\u001b[0m\u001b[0;34m,\u001b[0m \u001b[0mX\u001b[0m\u001b[0;34m,\u001b[0m \u001b[0mY\u001b[0m\u001b[0;34m)\u001b[0m\u001b[0;34m:\u001b[0m\u001b[0;34m\u001b[0m\u001b[0;34m\u001b[0m\u001b[0m\n\u001b[1;32m    862\u001b[0m         \u001b[0;34m\"\"\"Count and smooth feature occurrences.\"\"\"\u001b[0m\u001b[0;34m\u001b[0m\u001b[0;34m\u001b[0m\u001b[0m\n\u001b[0;32m--> 863\u001b[0;31m         \u001b[0mcheck_non_negative\u001b[0m\u001b[0;34m(\u001b[0m\u001b[0mX\u001b[0m\u001b[0;34m,\u001b[0m \u001b[0;34m\"MultinomialNB (input X)\"\u001b[0m\u001b[0;34m)\u001b[0m\u001b[0;34m\u001b[0m\u001b[0;34m\u001b[0m\u001b[0m\n\u001b[0m\u001b[1;32m    864\u001b[0m         \u001b[0mself\u001b[0m\u001b[0;34m.\u001b[0m\u001b[0mfeature_count_\u001b[0m \u001b[0;34m+=\u001b[0m \u001b[0msafe_sparse_dot\u001b[0m\u001b[0;34m(\u001b[0m\u001b[0mY\u001b[0m\u001b[0;34m.\u001b[0m\u001b[0mT\u001b[0m\u001b[0;34m,\u001b[0m \u001b[0mX\u001b[0m\u001b[0;34m)\u001b[0m\u001b[0;34m\u001b[0m\u001b[0;34m\u001b[0m\u001b[0m\n\u001b[1;32m    865\u001b[0m         \u001b[0mself\u001b[0m\u001b[0;34m.\u001b[0m\u001b[0mclass_count_\u001b[0m \u001b[0;34m+=\u001b[0m \u001b[0mY\u001b[0m\u001b[0;34m.\u001b[0m\u001b[0msum\u001b[0m\u001b[0;34m(\u001b[0m\u001b[0maxis\u001b[0m\u001b[0;34m=\u001b[0m\u001b[0;36m0\u001b[0m\u001b[0;34m)\u001b[0m\u001b[0;34m\u001b[0m\u001b[0;34m\u001b[0m\u001b[0m\n",
            "\u001b[0;32m/usr/local/lib/python3.7/dist-packages/sklearn/utils/validation.py\u001b[0m in \u001b[0;36mcheck_non_negative\u001b[0;34m(X, whom)\u001b[0m\n\u001b[1;32m   1247\u001b[0m \u001b[0;34m\u001b[0m\u001b[0m\n\u001b[1;32m   1248\u001b[0m     \u001b[0;32mif\u001b[0m \u001b[0mX_min\u001b[0m \u001b[0;34m<\u001b[0m \u001b[0;36m0\u001b[0m\u001b[0;34m:\u001b[0m\u001b[0;34m\u001b[0m\u001b[0;34m\u001b[0m\u001b[0m\n\u001b[0;32m-> 1249\u001b[0;31m         \u001b[0;32mraise\u001b[0m \u001b[0mValueError\u001b[0m\u001b[0;34m(\u001b[0m\u001b[0;34m\"Negative values in data passed to %s\"\u001b[0m \u001b[0;34m%\u001b[0m \u001b[0mwhom\u001b[0m\u001b[0;34m)\u001b[0m\u001b[0;34m\u001b[0m\u001b[0;34m\u001b[0m\u001b[0m\n\u001b[0m\u001b[1;32m   1250\u001b[0m \u001b[0;34m\u001b[0m\u001b[0m\n\u001b[1;32m   1251\u001b[0m \u001b[0;34m\u001b[0m\u001b[0m\n",
            "\u001b[0;31mValueError\u001b[0m: Negative values in data passed to MultinomialNB (input X)"
          ]
        }
      ]
    },
    {
      "cell_type": "code",
      "source": [
        "# Initialize a PassiveAggressiveClassifier\n",
        "from sklearn.naive_bayes import GaussianNB\n",
        "from sklearn.naive_bayes import MultinomialNB\n",
        "\n",
        "nbm = MultinomialNB()\n",
        "nbm.fit(xtrain_hash_vectorizer, y_train)\n",
        "\n",
        "# Predict on the test set and calculate accuracy\n",
        "y_pred = nbm.predict(xtest_hash_vectorizer)\n",
        "score = accuracy_score(y_test, y_pred)\n",
        "report = classification_report(y_test, y_pred, digits = 3)\n",
        "\n",
        "print(f'Accuracy: {round(score*100,2)}%')\n",
        "print(report)"
      ],
      "metadata": {
        "id": "qVyKIweAEecE",
        "outputId": "32b14a67-9314-41d5-eb0b-16ad495c19ab",
        "colab": {
          "base_uri": "https://localhost:8080/",
          "height": 381
        }
      },
      "execution_count": 50,
      "outputs": [
        {
          "output_type": "error",
          "ename": "ValueError",
          "evalue": "ignored",
          "traceback": [
            "\u001b[0;31m---------------------------------------------------------------------------\u001b[0m",
            "\u001b[0;31mValueError\u001b[0m                                Traceback (most recent call last)",
            "\u001b[0;32m<ipython-input-50-cc607f2338b7>\u001b[0m in \u001b[0;36m<module>\u001b[0;34m\u001b[0m\n\u001b[1;32m      4\u001b[0m \u001b[0;34m\u001b[0m\u001b[0m\n\u001b[1;32m      5\u001b[0m \u001b[0mnbm\u001b[0m \u001b[0;34m=\u001b[0m \u001b[0mMultinomialNB\u001b[0m\u001b[0;34m(\u001b[0m\u001b[0;34m)\u001b[0m\u001b[0;34m\u001b[0m\u001b[0;34m\u001b[0m\u001b[0m\n\u001b[0;32m----> 6\u001b[0;31m \u001b[0mnbm\u001b[0m\u001b[0;34m.\u001b[0m\u001b[0mfit\u001b[0m\u001b[0;34m(\u001b[0m\u001b[0mxtrain_hash_vectorizer\u001b[0m\u001b[0;34m,\u001b[0m \u001b[0my_train\u001b[0m\u001b[0;34m)\u001b[0m\u001b[0;34m\u001b[0m\u001b[0;34m\u001b[0m\u001b[0m\n\u001b[0m\u001b[1;32m      7\u001b[0m \u001b[0;34m\u001b[0m\u001b[0m\n\u001b[1;32m      8\u001b[0m \u001b[0;31m# Predict on the test set and calculate accuracy\u001b[0m\u001b[0;34m\u001b[0m\u001b[0;34m\u001b[0m\u001b[0;34m\u001b[0m\u001b[0m\n",
            "\u001b[0;32m/usr/local/lib/python3.7/dist-packages/sklearn/naive_bayes.py\u001b[0m in \u001b[0;36mfit\u001b[0;34m(self, X, y, sample_weight)\u001b[0m\n\u001b[1;32m    688\u001b[0m         \u001b[0mn_classes\u001b[0m \u001b[0;34m=\u001b[0m \u001b[0mY\u001b[0m\u001b[0;34m.\u001b[0m\u001b[0mshape\u001b[0m\u001b[0;34m[\u001b[0m\u001b[0;36m1\u001b[0m\u001b[0;34m]\u001b[0m\u001b[0;34m\u001b[0m\u001b[0;34m\u001b[0m\u001b[0m\n\u001b[1;32m    689\u001b[0m         \u001b[0mself\u001b[0m\u001b[0;34m.\u001b[0m\u001b[0m_init_counters\u001b[0m\u001b[0;34m(\u001b[0m\u001b[0mn_classes\u001b[0m\u001b[0;34m,\u001b[0m \u001b[0mn_features\u001b[0m\u001b[0;34m)\u001b[0m\u001b[0;34m\u001b[0m\u001b[0;34m\u001b[0m\u001b[0m\n\u001b[0;32m--> 690\u001b[0;31m         \u001b[0mself\u001b[0m\u001b[0;34m.\u001b[0m\u001b[0m_count\u001b[0m\u001b[0;34m(\u001b[0m\u001b[0mX\u001b[0m\u001b[0;34m,\u001b[0m \u001b[0mY\u001b[0m\u001b[0;34m)\u001b[0m\u001b[0;34m\u001b[0m\u001b[0;34m\u001b[0m\u001b[0m\n\u001b[0m\u001b[1;32m    691\u001b[0m         \u001b[0malpha\u001b[0m \u001b[0;34m=\u001b[0m \u001b[0mself\u001b[0m\u001b[0;34m.\u001b[0m\u001b[0m_check_alpha\u001b[0m\u001b[0;34m(\u001b[0m\u001b[0;34m)\u001b[0m\u001b[0;34m\u001b[0m\u001b[0;34m\u001b[0m\u001b[0m\n\u001b[1;32m    692\u001b[0m         \u001b[0mself\u001b[0m\u001b[0;34m.\u001b[0m\u001b[0m_update_feature_log_prob\u001b[0m\u001b[0;34m(\u001b[0m\u001b[0malpha\u001b[0m\u001b[0;34m)\u001b[0m\u001b[0;34m\u001b[0m\u001b[0;34m\u001b[0m\u001b[0m\n",
            "\u001b[0;32m/usr/local/lib/python3.7/dist-packages/sklearn/naive_bayes.py\u001b[0m in \u001b[0;36m_count\u001b[0;34m(self, X, Y)\u001b[0m\n\u001b[1;32m    861\u001b[0m     \u001b[0;32mdef\u001b[0m \u001b[0m_count\u001b[0m\u001b[0;34m(\u001b[0m\u001b[0mself\u001b[0m\u001b[0;34m,\u001b[0m \u001b[0mX\u001b[0m\u001b[0;34m,\u001b[0m \u001b[0mY\u001b[0m\u001b[0;34m)\u001b[0m\u001b[0;34m:\u001b[0m\u001b[0;34m\u001b[0m\u001b[0;34m\u001b[0m\u001b[0m\n\u001b[1;32m    862\u001b[0m         \u001b[0;34m\"\"\"Count and smooth feature occurrences.\"\"\"\u001b[0m\u001b[0;34m\u001b[0m\u001b[0;34m\u001b[0m\u001b[0m\n\u001b[0;32m--> 863\u001b[0;31m         \u001b[0mcheck_non_negative\u001b[0m\u001b[0;34m(\u001b[0m\u001b[0mX\u001b[0m\u001b[0;34m,\u001b[0m \u001b[0;34m\"MultinomialNB (input X)\"\u001b[0m\u001b[0;34m)\u001b[0m\u001b[0;34m\u001b[0m\u001b[0;34m\u001b[0m\u001b[0m\n\u001b[0m\u001b[1;32m    864\u001b[0m         \u001b[0mself\u001b[0m\u001b[0;34m.\u001b[0m\u001b[0mfeature_count_\u001b[0m \u001b[0;34m+=\u001b[0m \u001b[0msafe_sparse_dot\u001b[0m\u001b[0;34m(\u001b[0m\u001b[0mY\u001b[0m\u001b[0;34m.\u001b[0m\u001b[0mT\u001b[0m\u001b[0;34m,\u001b[0m \u001b[0mX\u001b[0m\u001b[0;34m)\u001b[0m\u001b[0;34m\u001b[0m\u001b[0;34m\u001b[0m\u001b[0m\n\u001b[1;32m    865\u001b[0m         \u001b[0mself\u001b[0m\u001b[0;34m.\u001b[0m\u001b[0mclass_count_\u001b[0m \u001b[0;34m+=\u001b[0m \u001b[0mY\u001b[0m\u001b[0;34m.\u001b[0m\u001b[0msum\u001b[0m\u001b[0;34m(\u001b[0m\u001b[0maxis\u001b[0m\u001b[0;34m=\u001b[0m\u001b[0;36m0\u001b[0m\u001b[0;34m)\u001b[0m\u001b[0;34m\u001b[0m\u001b[0;34m\u001b[0m\u001b[0m\n",
            "\u001b[0;32m/usr/local/lib/python3.7/dist-packages/sklearn/utils/validation.py\u001b[0m in \u001b[0;36mcheck_non_negative\u001b[0;34m(X, whom)\u001b[0m\n\u001b[1;32m   1247\u001b[0m \u001b[0;34m\u001b[0m\u001b[0m\n\u001b[1;32m   1248\u001b[0m     \u001b[0;32mif\u001b[0m \u001b[0mX_min\u001b[0m \u001b[0;34m<\u001b[0m \u001b[0;36m0\u001b[0m\u001b[0;34m:\u001b[0m\u001b[0;34m\u001b[0m\u001b[0;34m\u001b[0m\u001b[0m\n\u001b[0;32m-> 1249\u001b[0;31m         \u001b[0;32mraise\u001b[0m \u001b[0mValueError\u001b[0m\u001b[0;34m(\u001b[0m\u001b[0;34m\"Negative values in data passed to %s\"\u001b[0m \u001b[0;34m%\u001b[0m \u001b[0mwhom\u001b[0m\u001b[0;34m)\u001b[0m\u001b[0;34m\u001b[0m\u001b[0;34m\u001b[0m\u001b[0m\n\u001b[0m\u001b[1;32m   1250\u001b[0m \u001b[0;34m\u001b[0m\u001b[0m\n\u001b[1;32m   1251\u001b[0m \u001b[0;34m\u001b[0m\u001b[0m\n",
            "\u001b[0;31mValueError\u001b[0m: Negative values in data passed to MultinomialNB (input X)"
          ]
        }
      ]
    },
    {
      "cell_type": "markdown",
      "source": [
        "# SVC Classifier"
      ],
      "metadata": {
        "id": "JobABlm3HMw1"
      }
    },
    {
      "cell_type": "code",
      "source": [
        "from sklearn.svm import SVC\n",
        "\n",
        "svc = SVC(kernel='rbf', C = 1.0)\n",
        "svc.fit(xtrain_hash_vectorizer, y_train)\n",
        "\n",
        "# Predict on the test set and calculate accuracy\n",
        "y_pred = svc.predict(xtest_hash_vectorizer)\n",
        "score = accuracy_score(y_test, y_pred)\n",
        "report = classification_report(y_test, y_pred, digits = 3)\n",
        "\n",
        "print(f'Accuracy: {round(score*100,2)}%')\n",
        "print(report)"
      ],
      "metadata": {
        "colab": {
          "base_uri": "https://localhost:8080/"
        },
        "id": "UDzLT6DCHPxQ",
        "outputId": "c06f0f5a-f631-47b4-c9e1-c15d7ecd2ed6"
      },
      "execution_count": 54,
      "outputs": [
        {
          "output_type": "stream",
          "name": "stdout",
          "text": [
            "Accuracy: 92.58%\n",
            "              precision    recall  f1-score   support\n",
            "\n",
            "        FAKE      0.906     0.944     0.924       609\n",
            "        REAL      0.946     0.909     0.927       658\n",
            "\n",
            "    accuracy                          0.926      1267\n",
            "   macro avg      0.926     0.926     0.926      1267\n",
            "weighted avg      0.927     0.926     0.926      1267\n",
            "\n"
          ]
        }
      ]
    },
    {
      "cell_type": "code",
      "source": [
        "# Build confusion matrix\n",
        "confusion_matrix(y_test, y_pred, labels = ['FAKE', 'REAL'])"
      ],
      "metadata": {
        "colab": {
          "base_uri": "https://localhost:8080/"
        },
        "id": "44sbobRfHrYN",
        "outputId": "30c3cad6-ecb1-4b7e-bc70-a9efa6d4834d"
      },
      "execution_count": 55,
      "outputs": [
        {
          "output_type": "execute_result",
          "data": {
            "text/plain": [
              "array([[575,  34],\n",
              "       [ 60, 598]])"
            ]
          },
          "metadata": {},
          "execution_count": 55
        }
      ]
    },
    {
      "cell_type": "code",
      "source": [
        "f1_score(y_test, y_pred, average=\"weighted\"), score"
      ],
      "metadata": {
        "colab": {
          "base_uri": "https://localhost:8080/"
        },
        "id": "bGvOQefYHsa0",
        "outputId": "78629596-eadb-41b0-d325-eb94b7d01d3a"
      },
      "execution_count": 56,
      "outputs": [
        {
          "output_type": "execute_result",
          "data": {
            "text/plain": [
              "(0.9258366442705879, 0.925808997632202)"
            ]
          },
          "metadata": {},
          "execution_count": 56
        }
      ]
    },
    {
      "cell_type": "markdown",
      "source": [
        "# Random Forest Classifier"
      ],
      "metadata": {
        "id": "8kiNRUQuH-wi"
      }
    },
    {
      "cell_type": "code",
      "source": [
        "from sklearn.ensemble import RandomForestClassifier\n",
        "\n",
        "rf = RandomForestClassifier(n_estimators = 100,random_state = 8)\n",
        "rf.fit(xtrain_hash_vectorizer, y_train)\n",
        "\n",
        "# Predict on the test set and calculate accuracy\n",
        "y_pred = rf.predict(xtest_hash_vectorizer)\n",
        "score = accuracy_score(y_test, y_pred)\n",
        "report = classification_report(y_test, y_pred, digits = 3)\n",
        "\n",
        "print(f'Accuracy: {round(score*100,2)}%')\n",
        "print(report)\n"
      ],
      "metadata": {
        "colab": {
          "base_uri": "https://localhost:8080/"
        },
        "id": "fwPwUHznICt5",
        "outputId": "aa29c504-9856-45f4-aa99-58544ab2e6e9"
      },
      "execution_count": 57,
      "outputs": [
        {
          "output_type": "stream",
          "name": "stdout",
          "text": [
            "Accuracy: 89.74%\n",
            "              precision    recall  f1-score   support\n",
            "\n",
            "        FAKE      0.882     0.908     0.895       609\n",
            "        REAL      0.912     0.888     0.900       658\n",
            "\n",
            "    accuracy                          0.897      1267\n",
            "   macro avg      0.897     0.898     0.897      1267\n",
            "weighted avg      0.898     0.897     0.897      1267\n",
            "\n"
          ]
        }
      ]
    },
    {
      "cell_type": "code",
      "source": [
        "# Build confusion matrix\n",
        "confusion_matrix(y_test, y_pred, labels = ['FAKE', 'REAL'])"
      ],
      "metadata": {
        "colab": {
          "base_uri": "https://localhost:8080/"
        },
        "id": "rkBzd9xaI6Dg",
        "outputId": "45e2689c-749c-4d93-8bb3-a8e501138cd6"
      },
      "execution_count": 58,
      "outputs": [
        {
          "output_type": "execute_result",
          "data": {
            "text/plain": [
              "array([[553,  56],\n",
              "       [ 74, 584]])"
            ]
          },
          "metadata": {},
          "execution_count": 58
        }
      ]
    },
    {
      "cell_type": "code",
      "source": [
        "f1_score(y_test, y_pred, average=\"weighted\"), score"
      ],
      "metadata": {
        "colab": {
          "base_uri": "https://localhost:8080/"
        },
        "id": "qi2SN2o_I9b5",
        "outputId": "add82d60-de20-4a7e-aa80-eb70b480ee88"
      },
      "execution_count": 59,
      "outputs": [
        {
          "output_type": "execute_result",
          "data": {
            "text/plain": [
              "(0.8974311090709576, 0.8973954222573007)"
            ]
          },
          "metadata": {},
          "execution_count": 59
        }
      ]
    },
    {
      "cell_type": "markdown",
      "source": [
        "# Summary\n",
        "\n",
        "The data is analyzed with count TF-IDF vectorizer and classified with Multinomial Naive Bayes and SVC and comapred with passive aggressive classifier. Passive-aggressive classifier has an accuracy of 94% where MultinomialNB has 89% and SVC has 84% accuracy respectively.  \n",
        "\n",
        "For the case of Hash-vectorizing, the train data is classified with SVC -\"rbf\" kernel and Random forest classifier and got accuracy of 92% and 89% respectively. "
      ],
      "metadata": {
        "id": "GZ5geBBjZvmh"
      }
    }
  ]
}